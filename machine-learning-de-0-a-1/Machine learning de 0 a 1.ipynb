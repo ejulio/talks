{
 "cells": [
  {
   "cell_type": "markdown",
   "metadata": {
    "deletable": true,
    "editable": true
   },
   "source": [
    "# Machine learning de 0 a 1\n",
    "\n",
    "#### FLiSOL 2018 / FURB - Blumenau, SC\n",
    "##### Júlio César Batista [@ejuliobatista](https://twitter.com/ejuliobatista), [@ejulio](https://github.com/ejulio)\n",
    "##### 27/04/2018"
   ]
  },
  {
   "cell_type": "markdown",
   "metadata": {
    "deletable": true,
    "editable": true
   },
   "source": [
    "![Tipos de machine learning](./images/machine-learning.png)"
   ]
  },
  {
   "cell_type": "markdown",
   "metadata": {
    "deletable": true,
    "editable": true
   },
   "source": [
    "# Um pipeline simplificado para aprendizado supervisionado"
   ]
  },
  {
   "cell_type": "markdown",
   "metadata": {
    "deletable": true,
    "editable": true
   },
   "source": [
    "![Pipeline simplificado para machine learning](./images/pipeline.png)"
   ]
  },
  {
   "cell_type": "markdown",
   "metadata": {
    "deletable": true,
    "editable": true
   },
   "source": [
    "# Anatomia dos dados"
   ]
  },
  {
   "cell_type": "markdown",
   "metadata": {
    "deletable": true,
    "editable": true
   },
   "source": [
    "![Dados](./images/data.png)"
   ]
  },
  {
   "cell_type": "markdown",
   "metadata": {
    "deletable": true,
    "editable": true
   },
   "source": [
    "# Sobre os dados que vamos utilizar\n",
    "\n",
    "Iris, disponível em https://archive.ics.uci.edu/ml/datasets/Iris\n",
    "\n",
    "Descrição das colunas:\n",
    "* sepal length in cm \n",
    "* sepal width in cm \n",
    "* petal length in cm \n",
    "* petal width in cm \n",
    "* class: \n",
    "    * Iris Setosa \n",
    "    * Iris Versicolour \n",
    "    * Iris Virginica"
   ]
  },
  {
   "cell_type": "code",
   "execution_count": 1,
   "metadata": {
    "collapsed": false,
    "deletable": true,
    "editable": true
   },
   "outputs": [],
   "source": [
    "import pandas as pd\n",
    "from sklearn.preprocessing import LabelEncoder\n",
    "from sklearn.model_selection import train_test_split\n",
    "from sklearn.linear_model import LogisticRegression, LinearRegression\n",
    "from sklearn import metrics"
   ]
  },
  {
   "cell_type": "code",
   "execution_count": 2,
   "metadata": {
    "collapsed": false,
    "deletable": true,
    "editable": true
   },
   "outputs": [
    {
     "data": {
      "text/html": [
       "<div>\n",
       "<table border=\"1\" class=\"dataframe\">\n",
       "  <thead>\n",
       "    <tr style=\"text-align: right;\">\n",
       "      <th></th>\n",
       "      <th>x0</th>\n",
       "      <th>x1</th>\n",
       "      <th>x2</th>\n",
       "      <th>x3</th>\n",
       "      <th>x4</th>\n",
       "    </tr>\n",
       "  </thead>\n",
       "  <tbody>\n",
       "    <tr>\n",
       "      <th>0</th>\n",
       "      <td>5.1</td>\n",
       "      <td>3.5</td>\n",
       "      <td>1.4</td>\n",
       "      <td>0.2</td>\n",
       "      <td>Iris-setosa</td>\n",
       "    </tr>\n",
       "    <tr>\n",
       "      <th>1</th>\n",
       "      <td>4.9</td>\n",
       "      <td>3.0</td>\n",
       "      <td>1.4</td>\n",
       "      <td>0.2</td>\n",
       "      <td>Iris-setosa</td>\n",
       "    </tr>\n",
       "    <tr>\n",
       "      <th>2</th>\n",
       "      <td>4.7</td>\n",
       "      <td>3.2</td>\n",
       "      <td>1.3</td>\n",
       "      <td>0.2</td>\n",
       "      <td>Iris-setosa</td>\n",
       "    </tr>\n",
       "    <tr>\n",
       "      <th>3</th>\n",
       "      <td>4.6</td>\n",
       "      <td>3.1</td>\n",
       "      <td>1.5</td>\n",
       "      <td>0.2</td>\n",
       "      <td>Iris-setosa</td>\n",
       "    </tr>\n",
       "    <tr>\n",
       "      <th>4</th>\n",
       "      <td>5.0</td>\n",
       "      <td>3.6</td>\n",
       "      <td>1.4</td>\n",
       "      <td>0.2</td>\n",
       "      <td>Iris-setosa</td>\n",
       "    </tr>\n",
       "    <tr>\n",
       "      <th>5</th>\n",
       "      <td>5.4</td>\n",
       "      <td>3.9</td>\n",
       "      <td>1.7</td>\n",
       "      <td>0.4</td>\n",
       "      <td>Iris-setosa</td>\n",
       "    </tr>\n",
       "    <tr>\n",
       "      <th>6</th>\n",
       "      <td>4.6</td>\n",
       "      <td>3.4</td>\n",
       "      <td>1.4</td>\n",
       "      <td>0.3</td>\n",
       "      <td>Iris-setosa</td>\n",
       "    </tr>\n",
       "    <tr>\n",
       "      <th>7</th>\n",
       "      <td>5.0</td>\n",
       "      <td>3.4</td>\n",
       "      <td>1.5</td>\n",
       "      <td>0.2</td>\n",
       "      <td>Iris-setosa</td>\n",
       "    </tr>\n",
       "    <tr>\n",
       "      <th>8</th>\n",
       "      <td>4.4</td>\n",
       "      <td>2.9</td>\n",
       "      <td>1.4</td>\n",
       "      <td>0.2</td>\n",
       "      <td>Iris-setosa</td>\n",
       "    </tr>\n",
       "    <tr>\n",
       "      <th>9</th>\n",
       "      <td>4.9</td>\n",
       "      <td>3.1</td>\n",
       "      <td>1.5</td>\n",
       "      <td>0.1</td>\n",
       "      <td>Iris-setosa</td>\n",
       "    </tr>\n",
       "  </tbody>\n",
       "</table>\n",
       "</div>"
      ],
      "text/plain": [
       "    x0   x1   x2   x3           x4\n",
       "0  5.1  3.5  1.4  0.2  Iris-setosa\n",
       "1  4.9  3.0  1.4  0.2  Iris-setosa\n",
       "2  4.7  3.2  1.3  0.2  Iris-setosa\n",
       "3  4.6  3.1  1.5  0.2  Iris-setosa\n",
       "4  5.0  3.6  1.4  0.2  Iris-setosa\n",
       "5  5.4  3.9  1.7  0.4  Iris-setosa\n",
       "6  4.6  3.4  1.4  0.3  Iris-setosa\n",
       "7  5.0  3.4  1.5  0.2  Iris-setosa\n",
       "8  4.4  2.9  1.4  0.2  Iris-setosa\n",
       "9  4.9  3.1  1.5  0.1  Iris-setosa"
      ]
     },
     "execution_count": 2,
     "metadata": {},
     "output_type": "execute_result"
    }
   ],
   "source": [
    "# para facilitar com a imagem acima, utilizei colunas com nomes x0, x1, x2, ..., xM\n",
    "# deveriam ser nomes reais como sepal length, sepal width, ..., class\n",
    "columns = ['x%d' % i for i in range(5)]\n",
    "data = pd.read_csv('./data/iris.data', header=None, delimiter=',', names=columns)\n",
    "data.head(10)"
   ]
  },
  {
   "cell_type": "code",
   "execution_count": 3,
   "metadata": {
    "collapsed": false,
    "deletable": true,
    "editable": true
   },
   "outputs": [
    {
     "name": "stdout",
     "output_type": "stream",
     "text": [
      "[[ 5.1  3.5  1.4  0.2]\n",
      " [ 4.9  3.   1.4  0.2]\n",
      " [ 4.7  3.2  1.3  0.2]\n",
      " [ 4.6  3.1  1.5  0.2]\n",
      " [ 5.   3.6  1.4  0.2]\n",
      " [ 5.4  3.9  1.7  0.4]\n",
      " [ 4.6  3.4  1.4  0.3]\n",
      " [ 5.   3.4  1.5  0.2]\n",
      " [ 4.4  2.9  1.4  0.2]\n",
      " [ 4.9  3.1  1.5  0.1]]\n"
     ]
    }
   ],
   "source": [
    "X = data[['x0', 'x1', 'x2', 'x3']].as_matrix()\n",
    "print(X[:10, :])"
   ]
  },
  {
   "cell_type": "code",
   "execution_count": 4,
   "metadata": {
    "collapsed": false,
    "deletable": true,
    "editable": true
   },
   "outputs": [
    {
     "data": {
      "text/plain": [
       "array(['Iris-setosa', 'Iris-setosa', 'Iris-setosa', 'Iris-setosa',\n",
       "       'Iris-setosa', 'Iris-setosa', 'Iris-setosa', 'Iris-setosa',\n",
       "       'Iris-setosa', 'Iris-setosa'], dtype=object)"
      ]
     },
     "execution_count": 4,
     "metadata": {},
     "output_type": "execute_result"
    }
   ],
   "source": [
    "y = data['x4'].as_matrix()\n",
    "y[:10]"
   ]
  },
  {
   "cell_type": "code",
   "execution_count": 5,
   "metadata": {
    "collapsed": false,
    "deletable": true,
    "editable": true
   },
   "outputs": [
    {
     "name": "stdout",
     "output_type": "stream",
     "text": [
      "['Iris-setosa' 'Iris-versicolor' 'Iris-virginica']\n",
      "[0 0 0 0 0 0 0 0 0 0]\n"
     ]
    }
   ],
   "source": [
    "le = LabelEncoder()\n",
    "le.fit(y)\n",
    "y = le.transform(y)\n",
    "\n",
    "print(le.classes_)\n",
    "print(y[:10])"
   ]
  },
  {
   "cell_type": "markdown",
   "metadata": {
    "deletable": true,
    "editable": true
   },
   "source": [
    "![Separação em treino x teste](./images/train-test.png)"
   ]
  },
  {
   "cell_type": "code",
   "execution_count": 6,
   "metadata": {
    "collapsed": true,
    "deletable": true,
    "editable": true
   },
   "outputs": [],
   "source": [
    "(X_train, X_test, y_train, y_test) = train_test_split(X, y, test_size=0.25, random_state=42)"
   ]
  },
  {
   "cell_type": "code",
   "execution_count": 7,
   "metadata": {
    "collapsed": false,
    "deletable": true,
    "editable": true
   },
   "outputs": [
    {
     "name": "stdout",
     "output_type": "stream",
     "text": [
      "112 38 112 38\n"
     ]
    }
   ],
   "source": [
    "print(len(X_train), len(X_test), len(y_train), len(y_test))"
   ]
  },
  {
   "cell_type": "code",
   "execution_count": 8,
   "metadata": {
    "collapsed": false,
    "deletable": true,
    "editable": true
   },
   "outputs": [
    {
     "data": {
      "text/plain": [
       "LogisticRegression(C=1.0, class_weight=None, dual=False, fit_intercept=True,\n",
       "          intercept_scaling=1, max_iter=100, multi_class='ovr', n_jobs=1,\n",
       "          penalty='l2', random_state=None, solver='liblinear', tol=0.0001,\n",
       "          verbose=0, warm_start=False)"
      ]
     },
     "execution_count": 8,
     "metadata": {},
     "output_type": "execute_result"
    }
   ],
   "source": [
    "model = LogisticRegression()\n",
    "model.fit(X_train, y_train)"
   ]
  },
  {
   "cell_type": "code",
   "execution_count": 9,
   "metadata": {
    "collapsed": false,
    "deletable": true,
    "editable": true
   },
   "outputs": [
    {
     "name": "stdout",
     "output_type": "stream",
     "text": [
      "Accuracy 1.0\n",
      "[1 0 2 1 1 0 1 2 1 1 2 0 0 0 0 1 2 1 1 2 0 2 0 2 2 2 2 2 0 0 0 0 1 0 0 2 1\n",
      " 0]\n",
      "[1 0 2 1 1 0 1 2 1 1 2 0 0 0 0 1 2 1 1 2 0 2 0 2 2 2 2 2 0 0 0 0 1 0 0 2 1\n",
      " 0]\n"
     ]
    }
   ],
   "source": [
    "y_hat = model.predict(X_test)\n",
    "print('Accuracy', metrics.accuracy_score(y_test, y_hat))\n",
    "print(y_test)\n",
    "print(y_hat)"
   ]
  },
  {
   "cell_type": "markdown",
   "metadata": {
    "deletable": true,
    "editable": true
   },
   "source": [
    "![Logistic Regression](./images/logistic-regression.png)\n",
    "Fonte: http://www.saedsayad.com/logistic_regression.htm"
   ]
  },
  {
   "cell_type": "markdown",
   "metadata": {
    "deletable": true,
    "editable": true
   },
   "source": [
    "# Sobre os dados que vamos utilizar\n",
    "\n",
    "Iris, disponível em https://archive.ics.uci.edu/ml/datasets/Bike+Sharing+Dataset\n",
    "\n",
    "Descrição das colunas:\n",
    "* instant: record index\n",
    "* dteday : date\n",
    "* season : season (1:springer, 2:summer, 3:fall, 4:winter)\n",
    "* yr : year (0: 2011, 1:2012)\n",
    "* mnth : month ( 1 to 12)\n",
    "* hr : hour (0 to 23)\n",
    "* holiday : weather day is holiday or not (extracted from http://dchr.dc.gov/page/holiday-schedule)\n",
    "* weekday : day of the week\n",
    "* workingday : if day is neither weekend nor holiday is 1, otherwise is 0.\n",
    "* weathersit : \n",
    "    * 1: Clear, Few clouds, Partly cloudy, Partly cloudy\n",
    "    * 2: Mist + Cloudy, Mist + Broken clouds, Mist + Few clouds, Mist\n",
    "    * 3: Light Snow, Light Rain + Thunderstorm + Scattered clouds, Light Rain + Scattered clouds\n",
    "    * 4: Heavy Rain + Ice Pallets + Thunderstorm + Mist, Snow + Fog\n",
    "* temp : Normalized temperature in Celsius. The values are divided to 41 (max)\n",
    "* atemp: Normalized feeling temperature in Celsius. The values are divided to 50 (max)\n",
    "* hum: Normalized humidity. The values are divided to 100 (max)\n",
    "* windspeed: Normalized wind speed. The values are divided to 67 (max)\n",
    "* casual: count of casual users\n",
    "* registered: count of registered users\n",
    "* cnt: count of total rental bikes including both casual and registered"
   ]
  },
  {
   "cell_type": "code",
   "execution_count": 10,
   "metadata": {
    "collapsed": false,
    "deletable": true,
    "editable": true
   },
   "outputs": [
    {
     "data": {
      "text/html": [
       "<div>\n",
       "<table border=\"1\" class=\"dataframe\">\n",
       "  <thead>\n",
       "    <tr style=\"text-align: right;\">\n",
       "      <th></th>\n",
       "      <th>instant</th>\n",
       "      <th>dteday</th>\n",
       "      <th>season</th>\n",
       "      <th>yr</th>\n",
       "      <th>mnth</th>\n",
       "      <th>holiday</th>\n",
       "      <th>weekday</th>\n",
       "      <th>workingday</th>\n",
       "      <th>weathersit</th>\n",
       "      <th>temp</th>\n",
       "      <th>atemp</th>\n",
       "      <th>hum</th>\n",
       "      <th>windspeed</th>\n",
       "      <th>casual</th>\n",
       "      <th>registered</th>\n",
       "      <th>cnt</th>\n",
       "    </tr>\n",
       "  </thead>\n",
       "  <tbody>\n",
       "    <tr>\n",
       "      <th>0</th>\n",
       "      <td>1</td>\n",
       "      <td>2011-01-01</td>\n",
       "      <td>1</td>\n",
       "      <td>0</td>\n",
       "      <td>1</td>\n",
       "      <td>0</td>\n",
       "      <td>6</td>\n",
       "      <td>0</td>\n",
       "      <td>2</td>\n",
       "      <td>0.344167</td>\n",
       "      <td>0.363625</td>\n",
       "      <td>0.805833</td>\n",
       "      <td>0.160446</td>\n",
       "      <td>331</td>\n",
       "      <td>654</td>\n",
       "      <td>985</td>\n",
       "    </tr>\n",
       "    <tr>\n",
       "      <th>1</th>\n",
       "      <td>2</td>\n",
       "      <td>2011-01-02</td>\n",
       "      <td>1</td>\n",
       "      <td>0</td>\n",
       "      <td>1</td>\n",
       "      <td>0</td>\n",
       "      <td>0</td>\n",
       "      <td>0</td>\n",
       "      <td>2</td>\n",
       "      <td>0.363478</td>\n",
       "      <td>0.353739</td>\n",
       "      <td>0.696087</td>\n",
       "      <td>0.248539</td>\n",
       "      <td>131</td>\n",
       "      <td>670</td>\n",
       "      <td>801</td>\n",
       "    </tr>\n",
       "    <tr>\n",
       "      <th>2</th>\n",
       "      <td>3</td>\n",
       "      <td>2011-01-03</td>\n",
       "      <td>1</td>\n",
       "      <td>0</td>\n",
       "      <td>1</td>\n",
       "      <td>0</td>\n",
       "      <td>1</td>\n",
       "      <td>1</td>\n",
       "      <td>1</td>\n",
       "      <td>0.196364</td>\n",
       "      <td>0.189405</td>\n",
       "      <td>0.437273</td>\n",
       "      <td>0.248309</td>\n",
       "      <td>120</td>\n",
       "      <td>1229</td>\n",
       "      <td>1349</td>\n",
       "    </tr>\n",
       "    <tr>\n",
       "      <th>3</th>\n",
       "      <td>4</td>\n",
       "      <td>2011-01-04</td>\n",
       "      <td>1</td>\n",
       "      <td>0</td>\n",
       "      <td>1</td>\n",
       "      <td>0</td>\n",
       "      <td>2</td>\n",
       "      <td>1</td>\n",
       "      <td>1</td>\n",
       "      <td>0.200000</td>\n",
       "      <td>0.212122</td>\n",
       "      <td>0.590435</td>\n",
       "      <td>0.160296</td>\n",
       "      <td>108</td>\n",
       "      <td>1454</td>\n",
       "      <td>1562</td>\n",
       "    </tr>\n",
       "    <tr>\n",
       "      <th>4</th>\n",
       "      <td>5</td>\n",
       "      <td>2011-01-05</td>\n",
       "      <td>1</td>\n",
       "      <td>0</td>\n",
       "      <td>1</td>\n",
       "      <td>0</td>\n",
       "      <td>3</td>\n",
       "      <td>1</td>\n",
       "      <td>1</td>\n",
       "      <td>0.226957</td>\n",
       "      <td>0.229270</td>\n",
       "      <td>0.436957</td>\n",
       "      <td>0.186900</td>\n",
       "      <td>82</td>\n",
       "      <td>1518</td>\n",
       "      <td>1600</td>\n",
       "    </tr>\n",
       "    <tr>\n",
       "      <th>5</th>\n",
       "      <td>6</td>\n",
       "      <td>2011-01-06</td>\n",
       "      <td>1</td>\n",
       "      <td>0</td>\n",
       "      <td>1</td>\n",
       "      <td>0</td>\n",
       "      <td>4</td>\n",
       "      <td>1</td>\n",
       "      <td>1</td>\n",
       "      <td>0.204348</td>\n",
       "      <td>0.233209</td>\n",
       "      <td>0.518261</td>\n",
       "      <td>0.089565</td>\n",
       "      <td>88</td>\n",
       "      <td>1518</td>\n",
       "      <td>1606</td>\n",
       "    </tr>\n",
       "    <tr>\n",
       "      <th>6</th>\n",
       "      <td>7</td>\n",
       "      <td>2011-01-07</td>\n",
       "      <td>1</td>\n",
       "      <td>0</td>\n",
       "      <td>1</td>\n",
       "      <td>0</td>\n",
       "      <td>5</td>\n",
       "      <td>1</td>\n",
       "      <td>2</td>\n",
       "      <td>0.196522</td>\n",
       "      <td>0.208839</td>\n",
       "      <td>0.498696</td>\n",
       "      <td>0.168726</td>\n",
       "      <td>148</td>\n",
       "      <td>1362</td>\n",
       "      <td>1510</td>\n",
       "    </tr>\n",
       "    <tr>\n",
       "      <th>7</th>\n",
       "      <td>8</td>\n",
       "      <td>2011-01-08</td>\n",
       "      <td>1</td>\n",
       "      <td>0</td>\n",
       "      <td>1</td>\n",
       "      <td>0</td>\n",
       "      <td>6</td>\n",
       "      <td>0</td>\n",
       "      <td>2</td>\n",
       "      <td>0.165000</td>\n",
       "      <td>0.162254</td>\n",
       "      <td>0.535833</td>\n",
       "      <td>0.266804</td>\n",
       "      <td>68</td>\n",
       "      <td>891</td>\n",
       "      <td>959</td>\n",
       "    </tr>\n",
       "    <tr>\n",
       "      <th>8</th>\n",
       "      <td>9</td>\n",
       "      <td>2011-01-09</td>\n",
       "      <td>1</td>\n",
       "      <td>0</td>\n",
       "      <td>1</td>\n",
       "      <td>0</td>\n",
       "      <td>0</td>\n",
       "      <td>0</td>\n",
       "      <td>1</td>\n",
       "      <td>0.138333</td>\n",
       "      <td>0.116175</td>\n",
       "      <td>0.434167</td>\n",
       "      <td>0.361950</td>\n",
       "      <td>54</td>\n",
       "      <td>768</td>\n",
       "      <td>822</td>\n",
       "    </tr>\n",
       "    <tr>\n",
       "      <th>9</th>\n",
       "      <td>10</td>\n",
       "      <td>2011-01-10</td>\n",
       "      <td>1</td>\n",
       "      <td>0</td>\n",
       "      <td>1</td>\n",
       "      <td>0</td>\n",
       "      <td>1</td>\n",
       "      <td>1</td>\n",
       "      <td>1</td>\n",
       "      <td>0.150833</td>\n",
       "      <td>0.150888</td>\n",
       "      <td>0.482917</td>\n",
       "      <td>0.223267</td>\n",
       "      <td>41</td>\n",
       "      <td>1280</td>\n",
       "      <td>1321</td>\n",
       "    </tr>\n",
       "  </tbody>\n",
       "</table>\n",
       "</div>"
      ],
      "text/plain": [
       "   instant      dteday  season  yr  mnth  holiday  weekday  workingday  \\\n",
       "0        1  2011-01-01       1   0     1        0        6           0   \n",
       "1        2  2011-01-02       1   0     1        0        0           0   \n",
       "2        3  2011-01-03       1   0     1        0        1           1   \n",
       "3        4  2011-01-04       1   0     1        0        2           1   \n",
       "4        5  2011-01-05       1   0     1        0        3           1   \n",
       "5        6  2011-01-06       1   0     1        0        4           1   \n",
       "6        7  2011-01-07       1   0     1        0        5           1   \n",
       "7        8  2011-01-08       1   0     1        0        6           0   \n",
       "8        9  2011-01-09       1   0     1        0        0           0   \n",
       "9       10  2011-01-10       1   0     1        0        1           1   \n",
       "\n",
       "   weathersit      temp     atemp       hum  windspeed  casual  registered  \\\n",
       "0           2  0.344167  0.363625  0.805833   0.160446     331         654   \n",
       "1           2  0.363478  0.353739  0.696087   0.248539     131         670   \n",
       "2           1  0.196364  0.189405  0.437273   0.248309     120        1229   \n",
       "3           1  0.200000  0.212122  0.590435   0.160296     108        1454   \n",
       "4           1  0.226957  0.229270  0.436957   0.186900      82        1518   \n",
       "5           1  0.204348  0.233209  0.518261   0.089565      88        1518   \n",
       "6           2  0.196522  0.208839  0.498696   0.168726     148        1362   \n",
       "7           2  0.165000  0.162254  0.535833   0.266804      68         891   \n",
       "8           1  0.138333  0.116175  0.434167   0.361950      54         768   \n",
       "9           1  0.150833  0.150888  0.482917   0.223267      41        1280   \n",
       "\n",
       "    cnt  \n",
       "0   985  \n",
       "1   801  \n",
       "2  1349  \n",
       "3  1562  \n",
       "4  1600  \n",
       "5  1606  \n",
       "6  1510  \n",
       "7   959  \n",
       "8   822  \n",
       "9  1321  "
      ]
     },
     "execution_count": 10,
     "metadata": {},
     "output_type": "execute_result"
    }
   ],
   "source": [
    "data = pd.read_csv('./data/bike-sharing.csv', delimiter=',')\n",
    "data.head(10)"
   ]
  },
  {
   "cell_type": "code",
   "execution_count": 11,
   "metadata": {
    "collapsed": false,
    "deletable": true,
    "editable": true
   },
   "outputs": [
    {
     "name": "stdout",
     "output_type": "stream",
     "text": [
      "[[  3.44167000e-01   3.63625000e-01   8.05833000e-01   1.60446000e-01\n",
      "    3.31000000e+02   6.54000000e+02]\n",
      " [  3.63478000e-01   3.53739000e-01   6.96087000e-01   2.48539000e-01\n",
      "    1.31000000e+02   6.70000000e+02]\n",
      " [  1.96364000e-01   1.89405000e-01   4.37273000e-01   2.48309000e-01\n",
      "    1.20000000e+02   1.22900000e+03]\n",
      " [  2.00000000e-01   2.12122000e-01   5.90435000e-01   1.60296000e-01\n",
      "    1.08000000e+02   1.45400000e+03]\n",
      " [  2.26957000e-01   2.29270000e-01   4.36957000e-01   1.86900000e-01\n",
      "    8.20000000e+01   1.51800000e+03]\n",
      " [  2.04348000e-01   2.33209000e-01   5.18261000e-01   8.95652000e-02\n",
      "    8.80000000e+01   1.51800000e+03]\n",
      " [  1.96522000e-01   2.08839000e-01   4.98696000e-01   1.68726000e-01\n",
      "    1.48000000e+02   1.36200000e+03]\n",
      " [  1.65000000e-01   1.62254000e-01   5.35833000e-01   2.66804000e-01\n",
      "    6.80000000e+01   8.91000000e+02]\n",
      " [  1.38333000e-01   1.16175000e-01   4.34167000e-01   3.61950000e-01\n",
      "    5.40000000e+01   7.68000000e+02]\n",
      " [  1.50833000e-01   1.50888000e-01   4.82917000e-01   2.23267000e-01\n",
      "    4.10000000e+01   1.28000000e+03]]\n"
     ]
    }
   ],
   "source": [
    "X = data[['temp', 'atemp', 'hum', 'windspeed', 'casual', 'registered']].as_matrix()\n",
    "print(X[:10, :])"
   ]
  },
  {
   "cell_type": "code",
   "execution_count": 12,
   "metadata": {
    "collapsed": false,
    "deletable": true,
    "editable": true
   },
   "outputs": [
    {
     "data": {
      "text/plain": [
       "array([ 985,  801, 1349, 1562, 1600, 1606, 1510,  959,  822, 1321])"
      ]
     },
     "execution_count": 12,
     "metadata": {},
     "output_type": "execute_result"
    }
   ],
   "source": [
    "y = data['cnt'].as_matrix()\n",
    "y[:10]"
   ]
  },
  {
   "cell_type": "code",
   "execution_count": 13,
   "metadata": {
    "collapsed": true,
    "deletable": true,
    "editable": true
   },
   "outputs": [],
   "source": [
    "(X_train, X_test, y_train, y_test) = train_test_split(X, y, test_size=0.25, random_state=42)"
   ]
  },
  {
   "cell_type": "code",
   "execution_count": 14,
   "metadata": {
    "collapsed": false,
    "deletable": true,
    "editable": true
   },
   "outputs": [
    {
     "data": {
      "text/plain": [
       "LinearRegression(copy_X=True, fit_intercept=True, n_jobs=1, normalize=False)"
      ]
     },
     "execution_count": 14,
     "metadata": {},
     "output_type": "execute_result"
    }
   ],
   "source": [
    "model = LinearRegression()\n",
    "model.fit(X_train, y_train)"
   ]
  },
  {
   "cell_type": "code",
   "execution_count": 15,
   "metadata": {
    "collapsed": false,
    "deletable": true,
    "editable": true
   },
   "outputs": [
    {
     "name": "stdout",
     "output_type": "stream",
     "text": [
      "MSE 6.05302507878e-25\n",
      "[6606 1550 3747 6041 7538 7264 1605 2209 7499 5743 1796 3068 4891 5260 2133\n",
      " 2471 2046 8156 5362 2298 7697 5463 5409 1872 1807 5130 2121 7436 3830 5557\n",
      " 2743 3644 6196 7494 5918 3372 7582 6053 2566 1263 3944 3956 7580 4906 6966\n",
      "  705 4458 5298 6043 4996 3351 2431 1011 4475 4725 4727 2395 3351 4788 7175\n",
      " 6153 7442 1471 7865 6530 6211 7403 4302 2077 7333 3117 1635 3811 4595 4363\n",
      " 2034 5686 4748 1416 4401 2114 2028 5668   22 3940 4118 5423 1495 3620 3403\n",
      " 1501 7040 5992 4990 3095 2832 4713 2368 3409 4991 7713 3785 6664 2496 2077\n",
      " 5267 1162 2739 6861 1360 4602 7282 3570 8167 6230 4511 1461 3272 5923 2177\n",
      " 6398 1817 3239 1349 3867 5146 4541 3368 2134 7410 3331 3974 5495 5319 5895\n",
      " 2227 4367 7460 1977 4266 4864 1913 2132 4258 2792 5180 3958 4094 1842 3614\n",
      " 4274 7335 4123 4576 1510 3520 4151 6779 2424 4677 6233 4105 4205 5323 1746\n",
      " 3204 6192 1969 3613 4390 7006 7148 1985 3831 4569 5585 4916 5823 4189 1865\n",
      " 1107 7055 7534]\n",
      "[ 6606.  1550.  3747.  6041.  7538.  7264.  1605.  2209.  7499.  5743.\n",
      "  1796.  3068.  4891.  5260.  2133.  2471.  2046.  8156.  5362.  2298.\n",
      "  7697.  5463.  5409.  1872.  1807.  5130.  2121.  7436.  3830.  5557.\n",
      "  2743.  3644.  6196.  7494.  5918.  3372.  7582.  6053.  2566.  1263.\n",
      "  3944.  3956.  7580.  4906.  6966.   705.  4458.  5298.  6043.  4996.\n",
      "  3351.  2431.  1011.  4475.  4725.  4727.  2395.  3351.  4788.  7175.\n",
      "  6153.  7442.  1471.  7865.  6530.  6211.  7403.  4302.  2077.  7333.\n",
      "  3117.  1635.  3811.  4595.  4363.  2034.  5686.  4748.  1416.  4401.\n",
      "  2114.  2028.  5668.    22.  3940.  4118.  5423.  1495.  3620.  3403.\n",
      "  1501.  7040.  5992.  4990.  3095.  2832.  4713.  2368.  3409.  4991.\n",
      "  7713.  3785.  6664.  2496.  2077.  5267.  1162.  2739.  6861.  1360.\n",
      "  4602.  7282.  3570.  8167.  6230.  4511.  1461.  3272.  5923.  2177.\n",
      "  6398.  1817.  3239.  1349.  3867.  5146.  4541.  3368.  2134.  7410.\n",
      "  3331.  3974.  5495.  5319.  5895.  2227.  4367.  7460.  1977.  4266.\n",
      "  4864.  1913.  2132.  4258.  2792.  5180.  3958.  4094.  1842.  3614.\n",
      "  4274.  7335.  4123.  4576.  1510.  3520.  4151.  6779.  2424.  4677.\n",
      "  6233.  4105.  4205.  5323.  1746.  3204.  6192.  1969.  3613.  4390.\n",
      "  7006.  7148.  1985.  3831.  4569.  5585.  4916.  5823.  4189.  1865.\n",
      "  1107.  7055.  7534.]\n"
     ]
    }
   ],
   "source": [
    "y_hat = model.predict(X_test)\n",
    "print('MSE', metrics.mean_squared_error(y_test, y_hat))\n",
    "print(y_test)\n",
    "print(y_hat)"
   ]
  },
  {
   "cell_type": "code",
   "execution_count": 16,
   "metadata": {
    "collapsed": true,
    "deletable": true,
    "editable": true
   },
   "outputs": [],
   "source": [
    "# model.coef_"
   ]
  },
  {
   "cell_type": "code",
   "execution_count": 17,
   "metadata": {
    "collapsed": false,
    "deletable": true,
    "editable": true
   },
   "outputs": [
    {
     "data": {
      "text/plain": [
       "LinearRegression(copy_X=True, fit_intercept=True, n_jobs=1, normalize=False)"
      ]
     },
     "execution_count": 17,
     "metadata": {},
     "output_type": "execute_result"
    }
   ],
   "source": [
    "X_train = X_train[:, :-2]\n",
    "X_test = X_test[:, :-2]\n",
    "model = LinearRegression()\n",
    "model.fit(X_train, y_train)"
   ]
  },
  {
   "cell_type": "code",
   "execution_count": 18,
   "metadata": {
    "collapsed": false,
    "deletable": true,
    "editable": true
   },
   "outputs": [
    {
     "name": "stdout",
     "output_type": "stream",
     "text": [
      "MSE 2258776.19145\n",
      "[6606 1550 3747 6041 7538 7264 1605 2209 7499 5743 1796 3068 4891 5260 2133\n",
      " 2471 2046 8156 5362 2298 7697 5463 5409 1872 1807 5130 2121 7436 3830 5557\n",
      " 2743 3644 6196 7494 5918 3372 7582 6053 2566 1263 3944 3956 7580 4906 6966\n",
      "  705 4458 5298 6043 4996 3351 2431 1011 4475 4725 4727 2395 3351 4788 7175\n",
      " 6153 7442 1471 7865 6530 6211 7403 4302 2077 7333 3117 1635 3811 4595 4363\n",
      " 2034 5686 4748 1416 4401 2114 2028 5668   22 3940 4118 5423 1495 3620 3403\n",
      " 1501 7040 5992 4990 3095 2832 4713 2368 3409 4991 7713 3785 6664 2496 2077\n",
      " 5267 1162 2739 6861 1360 4602 7282 3570 8167 6230 4511 1461 3272 5923 2177\n",
      " 6398 1817 3239 1349 3867 5146 4541 3368 2134 7410 3331 3974 5495 5319 5895\n",
      " 2227 4367 7460 1977 4266 4864 1913 2132 4258 2792 5180 3958 4094 1842 3614\n",
      " 4274 7335 4123 4576 1510 3520 4151 6779 2424 4677 6233 4105 4205 5323 1746\n",
      " 3204 6192 1969 3613 4390 7006 7148 1985 3831 4569 5585 4916 5823 4189 1865\n",
      " 1107 7055 7534]\n",
      "[ 4354.40891929  2363.20383844  3271.03471905  4071.509046    5279.43116186\n",
      "  5757.0884592   2370.44010901  3467.95783085  6606.62747457  5462.64275234\n",
      "  2311.4358054   4429.04152021  5699.96341803  3364.920925    4177.15004823\n",
      "  3780.96078664  4123.73048038  5603.75341719  6604.60145248  2464.87474245\n",
      "  6154.67554684  7470.40735943  4025.85670922  2207.99279224  2665.64494076\n",
      "  5538.23618328  2696.09004303  5416.42831884  3053.01060755  3934.96009659\n",
      "  3930.25941722  4631.33916784  5458.71288859  5533.00960671  4668.71484787\n",
      "  3916.48343192  6149.28003221  5143.47083958  3375.81009656  2547.27043558\n",
      "  5086.3496803   3279.0977776   5950.15239188  5763.05304302  6091.16454163\n",
      "  2729.29042516  6154.25888888  4879.15194537  6018.21363674  3551.43851033\n",
      "  5040.17593291  3012.88567489  3440.40004275  6784.3044935   5695.26881648\n",
      "  5374.74930966  3725.59330601  4350.28301391  4828.55909604  6340.42561609\n",
      "  4908.07241694  5651.19535378  2594.70003163  5535.15207813  5300.00289334\n",
      "  6655.30788902  6879.69309896  6759.84131695  3166.93032163  5838.94334847\n",
      "  4730.49244196  4165.00091301  3943.80892735  5141.11243966  4306.9087955\n",
      "  4180.12436215  3308.12598601  5099.03701458  2353.40959914  6656.51993703\n",
      "  1739.98314996  3688.00912013  4032.86196126  3100.62177229  3952.49446106\n",
      "  3646.91067112  4804.40425197  4146.72437712  3770.50090594  3127.85060189\n",
      "  2378.14717725  5835.13026613  3818.29009019  4546.89270767  3082.8529052\n",
      "  2848.11798215  5594.9641343   2427.90689182  4082.71547223  5740.26244614\n",
      "  6266.91601072  6135.8932163   5829.11341433  3412.33726056  3326.15501304\n",
      "  3697.39226263  3092.07941054  2730.48533526  6431.53523112  2901.34834008\n",
      "  6713.26753593  4435.00367616  4049.94385891  5316.44743296  4658.88062807\n",
      "  4372.58515462  2757.23824925  3658.55323414  5762.99941426  2703.46123991\n",
      "  5024.66447075  3773.42902623  5219.7092655   2581.65139824  4558.07913811\n",
      "  4216.40512321  6936.42390714  3245.66545464  3393.67795022  5531.43487992\n",
      "  3483.48284973  4071.40433652  3191.13379206  3555.9868938   6197.17240609\n",
      "  2533.3672987   4762.50548323  5139.27449468  2957.17670172  6420.61372406\n",
      "  4684.00980687  3894.78275883  3409.35942961  6675.09059531  4226.19833053\n",
      "  5884.55904282  4875.1892798   2630.05865153  3795.19086242  3777.98065079\n",
      "  4548.96608474  6161.68398571  4150.0110336   5546.83647676  3004.52482449\n",
      "  4361.2237588   3607.21686932  5708.48529296  3842.84194155  5614.21834695\n",
      "  4626.71526768  4069.33055225  4352.23596544  3829.44662766  3331.19901276\n",
      "  4696.82621999  5281.05134388  3346.30898177  2968.57706408  6819.46167699\n",
      "  5642.59580595 -1449.30985534  2995.98945958  3786.97906469  3827.57782987\n",
      "  4975.48132816  3598.08997678  6574.33137395  4691.04222243  2143.55065273\n",
      "  2588.67692379  5626.62832207  6482.06744114]\n"
     ]
    }
   ],
   "source": [
    "y_hat = model.predict(X_test)\n",
    "print('MSE', metrics.mean_squared_error(y_test, y_hat))\n",
    "print(y_test)\n",
    "print(y_hat)"
   ]
  },
  {
   "cell_type": "markdown",
   "metadata": {
    "deletable": true,
    "editable": true
   },
   "source": [
    "# Explorando outros modelos"
   ]
  },
  {
   "cell_type": "code",
   "execution_count": 19,
   "metadata": {
    "collapsed": true,
    "deletable": true,
    "editable": true
   },
   "outputs": [],
   "source": [
    "columns = ['x%d' % i for i in range(5)]\n",
    "data = pd.read_csv('./data/iris.data', header=None, delimiter=',', names=columns)\n",
    "X = data[['x0', 'x1', 'x2', 'x3']].as_matrix()\n",
    "y = data['x4'].as_matrix()\n",
    "le = LabelEncoder()\n",
    "le.fit(y)\n",
    "y = le.transform(y)\n",
    "\n",
    "(X_train, X_test, y_train, y_test) = train_test_split(X, y, test_size=0.25, random_state=42)"
   ]
  },
  {
   "cell_type": "code",
   "execution_count": 20,
   "metadata": {
    "collapsed": false,
    "deletable": true,
    "editable": true
   },
   "outputs": [
    {
     "name": "stdout",
     "output_type": "stream",
     "text": [
      "Accuracy 1.0\n",
      "[1 0 2 1 1 0 1 2 1 1 2 0 0 0 0 1 2 1 1 2 0 2 0 2 2 2 2 2 0 0 0 0 1 0 0 2 1\n",
      " 0]\n",
      "[1 0 2 1 1 0 1 2 1 1 2 0 0 0 0 1 2 1 1 2 0 2 0 2 2 2 2 2 0 0 0 0 1 0 0 2 1\n",
      " 0]\n"
     ]
    }
   ],
   "source": [
    "from sklearn.neighbors import KNeighborsClassifier\n",
    "\n",
    "model = KNeighborsClassifier(n_neighbors=5)\n",
    "model.fit(X_train, y_train)\n",
    "\n",
    "y_hat = model.predict(X_test)\n",
    "\n",
    "print('Accuracy', metrics.accuracy_score(y_test, y_hat))\n",
    "print(y_test)\n",
    "print(y_hat)"
   ]
  },
  {
   "cell_type": "markdown",
   "metadata": {
    "deletable": true,
    "editable": true
   },
   "source": [
    "![Nearest neighbor](./images/knn.png)\n",
    "Fonte:https://www.python-course.eu/k_nearest_neighbor_classifier.php"
   ]
  },
  {
   "cell_type": "code",
   "execution_count": 21,
   "metadata": {
    "collapsed": false,
    "deletable": true,
    "editable": true
   },
   "outputs": [
    {
     "name": "stdout",
     "output_type": "stream",
     "text": [
      "Accuracy 1.0\n",
      "[1 0 2 1 1 0 1 2 1 1 2 0 0 0 0 1 2 1 1 2 0 2 0 2 2 2 2 2 0 0 0 0 1 0 0 2 1\n",
      " 0]\n",
      "[1 0 2 1 1 0 1 2 1 1 2 0 0 0 0 1 2 1 1 2 0 2 0 2 2 2 2 2 0 0 0 0 1 0 0 2 1\n",
      " 0]\n"
     ]
    }
   ],
   "source": [
    "from sklearn.tree import DecisionTreeClassifier\n",
    "\n",
    "model = DecisionTreeClassifier()\n",
    "model.fit(X_train, y_train)\n",
    "\n",
    "y_hat = model.predict(X_test)\n",
    "\n",
    "print('Accuracy', metrics.accuracy_score(y_test, y_hat))\n",
    "print(y_test)\n",
    "print(y_hat)"
   ]
  },
  {
   "cell_type": "code",
   "execution_count": 61,
   "metadata": {
    "collapsed": false,
    "deletable": true,
    "editable": true
   },
   "outputs": [
    {
     "data": {
      "image/svg+xml": [
       "<?xml version=\"1.0\" encoding=\"UTF-8\" standalone=\"no\"?>\n",
       "<!DOCTYPE svg PUBLIC \"-//W3C//DTD SVG 1.1//EN\"\n",
       " \"http://www.w3.org/Graphics/SVG/1.1/DTD/svg11.dtd\">\n",
       "<!-- Generated by graphviz version 2.38.0 (20140413.2041)\n",
       " -->\n",
       "<!-- Title: Tree Pages: 1 -->\n",
       "<svg width=\"630pt\" height=\"685pt\"\n",
       " viewBox=\"0.00 0.00 630.00 685.00\" xmlns=\"http://www.w3.org/2000/svg\" xmlns:xlink=\"http://www.w3.org/1999/xlink\">\n",
       "<g id=\"graph0\" class=\"graph\" transform=\"scale(1 1) rotate(0) translate(4 681)\">\n",
       "<title>Tree</title>\n",
       "<polygon fill=\"white\" stroke=\"none\" points=\"-4,4 -4,-681 626,-681 626,4 -4,4\"/>\n",
       "<!-- 0 -->\n",
       "<g id=\"node1\" class=\"node\"><title>0</title>\n",
       "<polygon fill=\"none\" stroke=\"black\" points=\"244.5,-677 118.5,-677 118.5,-609 244.5,-609 244.5,-677\"/>\n",
       "<text text-anchor=\"middle\" x=\"181.5\" y=\"-661.8\" font-family=\"Times,serif\" font-size=\"14.00\">X[2] &lt;= 2.45</text>\n",
       "<text text-anchor=\"middle\" x=\"181.5\" y=\"-646.8\" font-family=\"Times,serif\" font-size=\"14.00\">gini = 0.666</text>\n",
       "<text text-anchor=\"middle\" x=\"181.5\" y=\"-631.8\" font-family=\"Times,serif\" font-size=\"14.00\">samples = 112</text>\n",
       "<text text-anchor=\"middle\" x=\"181.5\" y=\"-616.8\" font-family=\"Times,serif\" font-size=\"14.00\">value = [35, 39, 38]</text>\n",
       "</g>\n",
       "<!-- 1 -->\n",
       "<g id=\"node2\" class=\"node\"><title>1</title>\n",
       "<polygon fill=\"none\" stroke=\"black\" points=\"171,-565.5 58,-565.5 58,-512.5 171,-512.5 171,-565.5\"/>\n",
       "<text text-anchor=\"middle\" x=\"114.5\" y=\"-550.3\" font-family=\"Times,serif\" font-size=\"14.00\">gini = 0.0</text>\n",
       "<text text-anchor=\"middle\" x=\"114.5\" y=\"-535.3\" font-family=\"Times,serif\" font-size=\"14.00\">samples = 35</text>\n",
       "<text text-anchor=\"middle\" x=\"114.5\" y=\"-520.3\" font-family=\"Times,serif\" font-size=\"14.00\">value = [35, 0, 0]</text>\n",
       "</g>\n",
       "<!-- 0&#45;&gt;1 -->\n",
       "<g id=\"edge1\" class=\"edge\"><title>0&#45;&gt;1</title>\n",
       "<path fill=\"none\" stroke=\"black\" d=\"M159.747,-608.884C152.451,-597.776 144.303,-585.372 136.954,-574.184\"/>\n",
       "<polygon fill=\"black\" stroke=\"black\" points=\"139.679,-571.957 131.263,-565.52 133.828,-575.8 139.679,-571.957\"/>\n",
       "<text text-anchor=\"middle\" x=\"126.193\" y=\"-586.3\" font-family=\"Times,serif\" font-size=\"14.00\">True</text>\n",
       "</g>\n",
       "<!-- 2 -->\n",
       "<g id=\"node3\" class=\"node\"><title>2</title>\n",
       "<polygon fill=\"none\" stroke=\"black\" points=\"308,-573 189,-573 189,-505 308,-505 308,-573\"/>\n",
       "<text text-anchor=\"middle\" x=\"248.5\" y=\"-557.8\" font-family=\"Times,serif\" font-size=\"14.00\">X[2] &lt;= 4.75</text>\n",
       "<text text-anchor=\"middle\" x=\"248.5\" y=\"-542.8\" font-family=\"Times,serif\" font-size=\"14.00\">gini = 0.5</text>\n",
       "<text text-anchor=\"middle\" x=\"248.5\" y=\"-527.8\" font-family=\"Times,serif\" font-size=\"14.00\">samples = 77</text>\n",
       "<text text-anchor=\"middle\" x=\"248.5\" y=\"-512.8\" font-family=\"Times,serif\" font-size=\"14.00\">value = [0, 39, 38]</text>\n",
       "</g>\n",
       "<!-- 0&#45;&gt;2 -->\n",
       "<g id=\"edge2\" class=\"edge\"><title>0&#45;&gt;2</title>\n",
       "<path fill=\"none\" stroke=\"black\" d=\"M203.253,-608.884C208.928,-600.243 215.119,-590.819 221.048,-581.793\"/>\n",
       "<polygon fill=\"black\" stroke=\"black\" points=\"224.062,-583.579 226.627,-573.299 218.211,-579.736 224.062,-583.579\"/>\n",
       "<text text-anchor=\"middle\" x=\"231.697\" y=\"-594.08\" font-family=\"Times,serif\" font-size=\"14.00\">False</text>\n",
       "</g>\n",
       "<!-- 3 -->\n",
       "<g id=\"node4\" class=\"node\"><title>3</title>\n",
       "<polygon fill=\"none\" stroke=\"black\" points=\"239,-469 126,-469 126,-401 239,-401 239,-469\"/>\n",
       "<text text-anchor=\"middle\" x=\"182.5\" y=\"-453.8\" font-family=\"Times,serif\" font-size=\"14.00\">X[3] &lt;= 1.65</text>\n",
       "<text text-anchor=\"middle\" x=\"182.5\" y=\"-438.8\" font-family=\"Times,serif\" font-size=\"14.00\">gini = 0.056</text>\n",
       "<text text-anchor=\"middle\" x=\"182.5\" y=\"-423.8\" font-family=\"Times,serif\" font-size=\"14.00\">samples = 35</text>\n",
       "<text text-anchor=\"middle\" x=\"182.5\" y=\"-408.8\" font-family=\"Times,serif\" font-size=\"14.00\">value = [0, 34, 1]</text>\n",
       "</g>\n",
       "<!-- 2&#45;&gt;3 -->\n",
       "<g id=\"edge3\" class=\"edge\"><title>2&#45;&gt;3</title>\n",
       "<path fill=\"none\" stroke=\"black\" d=\"M227.072,-504.884C221.481,-496.243 215.383,-486.819 209.542,-477.793\"/>\n",
       "<polygon fill=\"black\" stroke=\"black\" points=\"212.418,-475.794 204.047,-469.299 206.541,-479.596 212.418,-475.794\"/>\n",
       "</g>\n",
       "<!-- 6 -->\n",
       "<g id=\"node7\" class=\"node\"><title>6</title>\n",
       "<polygon fill=\"none\" stroke=\"black\" points=\"370,-469 257,-469 257,-401 370,-401 370,-469\"/>\n",
       "<text text-anchor=\"middle\" x=\"313.5\" y=\"-453.8\" font-family=\"Times,serif\" font-size=\"14.00\">X[3] &lt;= 1.75</text>\n",
       "<text text-anchor=\"middle\" x=\"313.5\" y=\"-438.8\" font-family=\"Times,serif\" font-size=\"14.00\">gini = 0.21</text>\n",
       "<text text-anchor=\"middle\" x=\"313.5\" y=\"-423.8\" font-family=\"Times,serif\" font-size=\"14.00\">samples = 42</text>\n",
       "<text text-anchor=\"middle\" x=\"313.5\" y=\"-408.8\" font-family=\"Times,serif\" font-size=\"14.00\">value = [0, 5, 37]</text>\n",
       "</g>\n",
       "<!-- 2&#45;&gt;6 -->\n",
       "<g id=\"edge6\" class=\"edge\"><title>2&#45;&gt;6</title>\n",
       "<path fill=\"none\" stroke=\"black\" d=\"M269.604,-504.884C275.11,-496.243 281.115,-486.819 286.867,-477.793\"/>\n",
       "<polygon fill=\"black\" stroke=\"black\" points=\"289.857,-479.614 292.28,-469.299 283.954,-475.852 289.857,-479.614\"/>\n",
       "</g>\n",
       "<!-- 4 -->\n",
       "<g id=\"node5\" class=\"node\"><title>4</title>\n",
       "<polygon fill=\"none\" stroke=\"black\" points=\"113,-357.5 0,-357.5 0,-304.5 113,-304.5 113,-357.5\"/>\n",
       "<text text-anchor=\"middle\" x=\"56.5\" y=\"-342.3\" font-family=\"Times,serif\" font-size=\"14.00\">gini = 0.0</text>\n",
       "<text text-anchor=\"middle\" x=\"56.5\" y=\"-327.3\" font-family=\"Times,serif\" font-size=\"14.00\">samples = 34</text>\n",
       "<text text-anchor=\"middle\" x=\"56.5\" y=\"-312.3\" font-family=\"Times,serif\" font-size=\"14.00\">value = [0, 34, 0]</text>\n",
       "</g>\n",
       "<!-- 3&#45;&gt;4 -->\n",
       "<g id=\"edge4\" class=\"edge\"><title>3&#45;&gt;4</title>\n",
       "<path fill=\"none\" stroke=\"black\" d=\"M141.591,-400.884C126.919,-389.006 110.416,-375.646 95.8762,-363.876\"/>\n",
       "<polygon fill=\"black\" stroke=\"black\" points=\"97.9993,-361.092 88.0246,-357.52 93.5949,-366.532 97.9993,-361.092\"/>\n",
       "</g>\n",
       "<!-- 5 -->\n",
       "<g id=\"node6\" class=\"node\"><title>5</title>\n",
       "<polygon fill=\"none\" stroke=\"black\" points=\"237.5,-357.5 131.5,-357.5 131.5,-304.5 237.5,-304.5 237.5,-357.5\"/>\n",
       "<text text-anchor=\"middle\" x=\"184.5\" y=\"-342.3\" font-family=\"Times,serif\" font-size=\"14.00\">gini = 0.0</text>\n",
       "<text text-anchor=\"middle\" x=\"184.5\" y=\"-327.3\" font-family=\"Times,serif\" font-size=\"14.00\">samples = 1</text>\n",
       "<text text-anchor=\"middle\" x=\"184.5\" y=\"-312.3\" font-family=\"Times,serif\" font-size=\"14.00\">value = [0, 0, 1]</text>\n",
       "</g>\n",
       "<!-- 3&#45;&gt;5 -->\n",
       "<g id=\"edge5\" class=\"edge\"><title>3&#45;&gt;5</title>\n",
       "<path fill=\"none\" stroke=\"black\" d=\"M183.149,-400.884C183.359,-390.216 183.591,-378.352 183.804,-367.519\"/>\n",
       "<polygon fill=\"black\" stroke=\"black\" points=\"187.303,-367.587 184,-357.52 180.304,-367.449 187.303,-367.587\"/>\n",
       "</g>\n",
       "<!-- 7 -->\n",
       "<g id=\"node8\" class=\"node\"><title>7</title>\n",
       "<polygon fill=\"none\" stroke=\"black\" points=\"364.5,-365 258.5,-365 258.5,-297 364.5,-297 364.5,-365\"/>\n",
       "<text text-anchor=\"middle\" x=\"311.5\" y=\"-349.8\" font-family=\"Times,serif\" font-size=\"14.00\">X[2] &lt;= 4.95</text>\n",
       "<text text-anchor=\"middle\" x=\"311.5\" y=\"-334.8\" font-family=\"Times,serif\" font-size=\"14.00\">gini = 0.5</text>\n",
       "<text text-anchor=\"middle\" x=\"311.5\" y=\"-319.8\" font-family=\"Times,serif\" font-size=\"14.00\">samples = 8</text>\n",
       "<text text-anchor=\"middle\" x=\"311.5\" y=\"-304.8\" font-family=\"Times,serif\" font-size=\"14.00\">value = [0, 4, 4]</text>\n",
       "</g>\n",
       "<!-- 6&#45;&gt;7 -->\n",
       "<g id=\"edge7\" class=\"edge\"><title>6&#45;&gt;7</title>\n",
       "<path fill=\"none\" stroke=\"black\" d=\"M312.851,-400.884C312.692,-392.778 312.519,-383.982 312.352,-375.472\"/>\n",
       "<polygon fill=\"black\" stroke=\"black\" points=\"315.848,-375.229 312.153,-365.299 308.85,-375.366 315.848,-375.229\"/>\n",
       "</g>\n",
       "<!-- 14 -->\n",
       "<g id=\"node15\" class=\"node\"><title>14</title>\n",
       "<polygon fill=\"none\" stroke=\"black\" points=\"496,-365 383,-365 383,-297 496,-297 496,-365\"/>\n",
       "<text text-anchor=\"middle\" x=\"439.5\" y=\"-349.8\" font-family=\"Times,serif\" font-size=\"14.00\">X[2] &lt;= 4.85</text>\n",
       "<text text-anchor=\"middle\" x=\"439.5\" y=\"-334.8\" font-family=\"Times,serif\" font-size=\"14.00\">gini = 0.057</text>\n",
       "<text text-anchor=\"middle\" x=\"439.5\" y=\"-319.8\" font-family=\"Times,serif\" font-size=\"14.00\">samples = 34</text>\n",
       "<text text-anchor=\"middle\" x=\"439.5\" y=\"-304.8\" font-family=\"Times,serif\" font-size=\"14.00\">value = [0, 1, 33]</text>\n",
       "</g>\n",
       "<!-- 6&#45;&gt;14 -->\n",
       "<g id=\"edge14\" class=\"edge\"><title>6&#45;&gt;14</title>\n",
       "<path fill=\"none\" stroke=\"black\" d=\"M354.409,-400.884C365.852,-391.62 378.409,-381.455 390.279,-371.845\"/>\n",
       "<polygon fill=\"black\" stroke=\"black\" points=\"392.795,-374.312 398.365,-365.299 388.391,-368.871 392.795,-374.312\"/>\n",
       "</g>\n",
       "<!-- 8 -->\n",
       "<g id=\"node9\" class=\"node\"><title>8</title>\n",
       "<polygon fill=\"none\" stroke=\"black\" points=\"241.5,-253.5 135.5,-253.5 135.5,-200.5 241.5,-200.5 241.5,-253.5\"/>\n",
       "<text text-anchor=\"middle\" x=\"188.5\" y=\"-238.3\" font-family=\"Times,serif\" font-size=\"14.00\">gini = 0.0</text>\n",
       "<text text-anchor=\"middle\" x=\"188.5\" y=\"-223.3\" font-family=\"Times,serif\" font-size=\"14.00\">samples = 2</text>\n",
       "<text text-anchor=\"middle\" x=\"188.5\" y=\"-208.3\" font-family=\"Times,serif\" font-size=\"14.00\">value = [0, 2, 0]</text>\n",
       "</g>\n",
       "<!-- 7&#45;&gt;8 -->\n",
       "<g id=\"edge8\" class=\"edge\"><title>7&#45;&gt;8</title>\n",
       "<path fill=\"none\" stroke=\"black\" d=\"M271.565,-296.884C257.375,-285.116 241.431,-271.894 227.333,-260.203\"/>\n",
       "<polygon fill=\"black\" stroke=\"black\" points=\"229.206,-257.209 219.274,-253.52 224.737,-262.597 229.206,-257.209\"/>\n",
       "</g>\n",
       "<!-- 9 -->\n",
       "<g id=\"node10\" class=\"node\"><title>9</title>\n",
       "<polygon fill=\"none\" stroke=\"black\" points=\"365.5,-261 259.5,-261 259.5,-193 365.5,-193 365.5,-261\"/>\n",
       "<text text-anchor=\"middle\" x=\"312.5\" y=\"-245.8\" font-family=\"Times,serif\" font-size=\"14.00\">X[3] &lt;= 1.55</text>\n",
       "<text text-anchor=\"middle\" x=\"312.5\" y=\"-230.8\" font-family=\"Times,serif\" font-size=\"14.00\">gini = 0.444</text>\n",
       "<text text-anchor=\"middle\" x=\"312.5\" y=\"-215.8\" font-family=\"Times,serif\" font-size=\"14.00\">samples = 6</text>\n",
       "<text text-anchor=\"middle\" x=\"312.5\" y=\"-200.8\" font-family=\"Times,serif\" font-size=\"14.00\">value = [0, 2, 4]</text>\n",
       "</g>\n",
       "<!-- 7&#45;&gt;9 -->\n",
       "<g id=\"edge9\" class=\"edge\"><title>7&#45;&gt;9</title>\n",
       "<path fill=\"none\" stroke=\"black\" d=\"M311.825,-296.884C311.904,-288.778 311.99,-279.982 312.074,-271.472\"/>\n",
       "<polygon fill=\"black\" stroke=\"black\" points=\"315.575,-271.333 312.174,-261.299 308.576,-271.265 315.575,-271.333\"/>\n",
       "</g>\n",
       "<!-- 10 -->\n",
       "<g id=\"node11\" class=\"node\"><title>10</title>\n",
       "<polygon fill=\"none\" stroke=\"black\" points=\"241.5,-149.5 135.5,-149.5 135.5,-96.5 241.5,-96.5 241.5,-149.5\"/>\n",
       "<text text-anchor=\"middle\" x=\"188.5\" y=\"-134.3\" font-family=\"Times,serif\" font-size=\"14.00\">gini = 0.0</text>\n",
       "<text text-anchor=\"middle\" x=\"188.5\" y=\"-119.3\" font-family=\"Times,serif\" font-size=\"14.00\">samples = 3</text>\n",
       "<text text-anchor=\"middle\" x=\"188.5\" y=\"-104.3\" font-family=\"Times,serif\" font-size=\"14.00\">value = [0, 0, 3]</text>\n",
       "</g>\n",
       "<!-- 9&#45;&gt;10 -->\n",
       "<g id=\"edge10\" class=\"edge\"><title>9&#45;&gt;10</title>\n",
       "<path fill=\"none\" stroke=\"black\" d=\"M272.241,-192.884C257.801,-181.006 241.56,-167.646 227.251,-155.876\"/>\n",
       "<polygon fill=\"black\" stroke=\"black\" points=\"229.471,-153.17 219.524,-149.52 225.024,-158.576 229.471,-153.17\"/>\n",
       "</g>\n",
       "<!-- 11 -->\n",
       "<g id=\"node12\" class=\"node\"><title>11</title>\n",
       "<polygon fill=\"none\" stroke=\"black\" points=\"365.5,-157 259.5,-157 259.5,-89 365.5,-89 365.5,-157\"/>\n",
       "<text text-anchor=\"middle\" x=\"312.5\" y=\"-141.8\" font-family=\"Times,serif\" font-size=\"14.00\">X[2] &lt;= 5.45</text>\n",
       "<text text-anchor=\"middle\" x=\"312.5\" y=\"-126.8\" font-family=\"Times,serif\" font-size=\"14.00\">gini = 0.444</text>\n",
       "<text text-anchor=\"middle\" x=\"312.5\" y=\"-111.8\" font-family=\"Times,serif\" font-size=\"14.00\">samples = 3</text>\n",
       "<text text-anchor=\"middle\" x=\"312.5\" y=\"-96.8\" font-family=\"Times,serif\" font-size=\"14.00\">value = [0, 2, 1]</text>\n",
       "</g>\n",
       "<!-- 9&#45;&gt;11 -->\n",
       "<g id=\"edge11\" class=\"edge\"><title>9&#45;&gt;11</title>\n",
       "<path fill=\"none\" stroke=\"black\" d=\"M312.5,-192.884C312.5,-184.778 312.5,-175.982 312.5,-167.472\"/>\n",
       "<polygon fill=\"black\" stroke=\"black\" points=\"316,-167.299 312.5,-157.299 309,-167.299 316,-167.299\"/>\n",
       "</g>\n",
       "<!-- 12 -->\n",
       "<g id=\"node13\" class=\"node\"><title>12</title>\n",
       "<polygon fill=\"none\" stroke=\"black\" points=\"303.5,-53 197.5,-53 197.5,-0 303.5,-0 303.5,-53\"/>\n",
       "<text text-anchor=\"middle\" x=\"250.5\" y=\"-37.8\" font-family=\"Times,serif\" font-size=\"14.00\">gini = 0.0</text>\n",
       "<text text-anchor=\"middle\" x=\"250.5\" y=\"-22.8\" font-family=\"Times,serif\" font-size=\"14.00\">samples = 2</text>\n",
       "<text text-anchor=\"middle\" x=\"250.5\" y=\"-7.8\" font-family=\"Times,serif\" font-size=\"14.00\">value = [0, 2, 0]</text>\n",
       "</g>\n",
       "<!-- 11&#45;&gt;12 -->\n",
       "<g id=\"edge12\" class=\"edge\"><title>11&#45;&gt;12</title>\n",
       "<path fill=\"none\" stroke=\"black\" d=\"M290.815,-88.9485C285.054,-80.1664 278.819,-70.6629 273.014,-61.815\"/>\n",
       "<polygon fill=\"black\" stroke=\"black\" points=\"275.797,-59.6779 267.385,-53.2367 269.945,-63.5178 275.797,-59.6779\"/>\n",
       "</g>\n",
       "<!-- 13 -->\n",
       "<g id=\"node14\" class=\"node\"><title>13</title>\n",
       "<polygon fill=\"none\" stroke=\"black\" points=\"427.5,-53 321.5,-53 321.5,-0 427.5,-0 427.5,-53\"/>\n",
       "<text text-anchor=\"middle\" x=\"374.5\" y=\"-37.8\" font-family=\"Times,serif\" font-size=\"14.00\">gini = 0.0</text>\n",
       "<text text-anchor=\"middle\" x=\"374.5\" y=\"-22.8\" font-family=\"Times,serif\" font-size=\"14.00\">samples = 1</text>\n",
       "<text text-anchor=\"middle\" x=\"374.5\" y=\"-7.8\" font-family=\"Times,serif\" font-size=\"14.00\">value = [0, 0, 1]</text>\n",
       "</g>\n",
       "<!-- 11&#45;&gt;13 -->\n",
       "<g id=\"edge13\" class=\"edge\"><title>11&#45;&gt;13</title>\n",
       "<path fill=\"none\" stroke=\"black\" d=\"M334.185,-88.9485C339.946,-80.1664 346.181,-70.6629 351.986,-61.815\"/>\n",
       "<polygon fill=\"black\" stroke=\"black\" points=\"355.055,-63.5178 357.615,-53.2367 349.203,-59.6779 355.055,-63.5178\"/>\n",
       "</g>\n",
       "<!-- 15 -->\n",
       "<g id=\"node16\" class=\"node\"><title>15</title>\n",
       "<polygon fill=\"none\" stroke=\"black\" points=\"490.5,-261 384.5,-261 384.5,-193 490.5,-193 490.5,-261\"/>\n",
       "<text text-anchor=\"middle\" x=\"437.5\" y=\"-245.8\" font-family=\"Times,serif\" font-size=\"14.00\">X[1] &lt;= 3.1</text>\n",
       "<text text-anchor=\"middle\" x=\"437.5\" y=\"-230.8\" font-family=\"Times,serif\" font-size=\"14.00\">gini = 0.444</text>\n",
       "<text text-anchor=\"middle\" x=\"437.5\" y=\"-215.8\" font-family=\"Times,serif\" font-size=\"14.00\">samples = 3</text>\n",
       "<text text-anchor=\"middle\" x=\"437.5\" y=\"-200.8\" font-family=\"Times,serif\" font-size=\"14.00\">value = [0, 1, 2]</text>\n",
       "</g>\n",
       "<!-- 14&#45;&gt;15 -->\n",
       "<g id=\"edge15\" class=\"edge\"><title>14&#45;&gt;15</title>\n",
       "<path fill=\"none\" stroke=\"black\" d=\"M438.851,-296.884C438.692,-288.778 438.519,-279.982 438.352,-271.472\"/>\n",
       "<polygon fill=\"black\" stroke=\"black\" points=\"441.848,-271.229 438.153,-261.299 434.85,-271.366 441.848,-271.229\"/>\n",
       "</g>\n",
       "<!-- 18 -->\n",
       "<g id=\"node19\" class=\"node\"><title>18</title>\n",
       "<polygon fill=\"none\" stroke=\"black\" points=\"622,-253.5 509,-253.5 509,-200.5 622,-200.5 622,-253.5\"/>\n",
       "<text text-anchor=\"middle\" x=\"565.5\" y=\"-238.3\" font-family=\"Times,serif\" font-size=\"14.00\">gini = 0.0</text>\n",
       "<text text-anchor=\"middle\" x=\"565.5\" y=\"-223.3\" font-family=\"Times,serif\" font-size=\"14.00\">samples = 31</text>\n",
       "<text text-anchor=\"middle\" x=\"565.5\" y=\"-208.3\" font-family=\"Times,serif\" font-size=\"14.00\">value = [0, 0, 31]</text>\n",
       "</g>\n",
       "<!-- 14&#45;&gt;18 -->\n",
       "<g id=\"edge18\" class=\"edge\"><title>14&#45;&gt;18</title>\n",
       "<path fill=\"none\" stroke=\"black\" d=\"M480.409,-296.884C495.081,-285.006 511.584,-271.646 526.124,-259.876\"/>\n",
       "<polygon fill=\"black\" stroke=\"black\" points=\"528.405,-262.532 533.975,-253.52 524.001,-257.092 528.405,-262.532\"/>\n",
       "</g>\n",
       "<!-- 16 -->\n",
       "<g id=\"node17\" class=\"node\"><title>16</title>\n",
       "<polygon fill=\"none\" stroke=\"black\" points=\"489.5,-149.5 383.5,-149.5 383.5,-96.5 489.5,-96.5 489.5,-149.5\"/>\n",
       "<text text-anchor=\"middle\" x=\"436.5\" y=\"-134.3\" font-family=\"Times,serif\" font-size=\"14.00\">gini = 0.0</text>\n",
       "<text text-anchor=\"middle\" x=\"436.5\" y=\"-119.3\" font-family=\"Times,serif\" font-size=\"14.00\">samples = 2</text>\n",
       "<text text-anchor=\"middle\" x=\"436.5\" y=\"-104.3\" font-family=\"Times,serif\" font-size=\"14.00\">value = [0, 0, 2]</text>\n",
       "</g>\n",
       "<!-- 15&#45;&gt;16 -->\n",
       "<g id=\"edge16\" class=\"edge\"><title>15&#45;&gt;16</title>\n",
       "<path fill=\"none\" stroke=\"black\" d=\"M437.175,-192.884C437.072,-182.326 436.957,-170.597 436.852,-159.854\"/>\n",
       "<polygon fill=\"black\" stroke=\"black\" points=\"440.348,-159.485 436.75,-149.52 433.348,-159.554 440.348,-159.485\"/>\n",
       "</g>\n",
       "<!-- 17 -->\n",
       "<g id=\"node18\" class=\"node\"><title>17</title>\n",
       "<polygon fill=\"none\" stroke=\"black\" points=\"613.5,-149.5 507.5,-149.5 507.5,-96.5 613.5,-96.5 613.5,-149.5\"/>\n",
       "<text text-anchor=\"middle\" x=\"560.5\" y=\"-134.3\" font-family=\"Times,serif\" font-size=\"14.00\">gini = 0.0</text>\n",
       "<text text-anchor=\"middle\" x=\"560.5\" y=\"-119.3\" font-family=\"Times,serif\" font-size=\"14.00\">samples = 1</text>\n",
       "<text text-anchor=\"middle\" x=\"560.5\" y=\"-104.3\" font-family=\"Times,serif\" font-size=\"14.00\">value = [0, 1, 0]</text>\n",
       "</g>\n",
       "<!-- 15&#45;&gt;17 -->\n",
       "<g id=\"edge17\" class=\"edge\"><title>15&#45;&gt;17</title>\n",
       "<path fill=\"none\" stroke=\"black\" d=\"M477.435,-192.884C491.625,-181.116 507.569,-167.894 521.667,-156.203\"/>\n",
       "<polygon fill=\"black\" stroke=\"black\" points=\"524.263,-158.597 529.726,-149.52 519.794,-153.209 524.263,-158.597\"/>\n",
       "</g>\n",
       "</g>\n",
       "</svg>\n"
      ],
      "text/plain": [
       "<graphviz.files.Source at 0x7f32a166c8d0>"
      ]
     },
     "execution_count": 61,
     "metadata": {},
     "output_type": "execute_result"
    }
   ],
   "source": [
    "% matplotlib inline\n",
    "from sklearn.tree import export_graphviz\n",
    "import graphviz\n",
    "dot_data = export_graphviz(model, out_file=None) \n",
    "graph = graphviz.Source(dot_data) \n",
    "graph"
   ]
  },
  {
   "cell_type": "code",
   "execution_count": 23,
   "metadata": {
    "collapsed": true,
    "deletable": true,
    "editable": true
   },
   "outputs": [],
   "source": [
    "# e muitos outros...."
   ]
  },
  {
   "cell_type": "markdown",
   "metadata": {
    "deletable": true,
    "editable": true
   },
   "source": [
    "# Implementando Logistic Regression"
   ]
  },
  {
   "cell_type": "code",
   "execution_count": 24,
   "metadata": {
    "collapsed": true,
    "deletable": true,
    "editable": true
   },
   "outputs": [],
   "source": [
    "columns = ['x%d' % i for i in range(5)]\n",
    "data = pd.read_csv('./data/iris.data', header=None, delimiter=',', names=columns)\n",
    "X = data[['x0', 'x1', 'x2', 'x3']].as_matrix()\n",
    "y = data['x4'].as_matrix()\n",
    "le = LabelEncoder()\n",
    "le.fit(y)\n",
    "y = le.transform(y)\n",
    "\n",
    "(X_train, X_test, y_train, y_test) = train_test_split(X, y, test_size=0.25, random_state=42)"
   ]
  },
  {
   "cell_type": "code",
   "execution_count": 25,
   "metadata": {
    "collapsed": true,
    "deletable": true,
    "editable": true
   },
   "outputs": [],
   "source": [
    "# removemos uma classe para \"facilitar\"\n",
    "# Logistic Regression é um classificador binário, apenas consegue decidir entre 2 classes (0 e 1)\n",
    "\n",
    "indices = y_train != 2\n",
    "X_train = X_train[indices]\n",
    "y_train = y_train[indices]\n",
    "\n",
    "indices = y_test != 2\n",
    "X_test = X_test[indices]\n",
    "y_test = y_test[indices]"
   ]
  },
  {
   "cell_type": "code",
   "execution_count": 26,
   "metadata": {
    "collapsed": true,
    "deletable": true,
    "editable": true
   },
   "outputs": [],
   "source": [
    "from sklearn.preprocessing import StandardScaler\n",
    "\n",
    "scaler = StandardScaler()\n",
    "scaler.fit(X_train)\n",
    "\n",
    "X_train_norm = scaler.transform(X_train)\n",
    "X_test_norm = scaler.transform(X_test)"
   ]
  },
  {
   "cell_type": "code",
   "execution_count": 58,
   "metadata": {
    "collapsed": false,
    "deletable": true,
    "editable": true
   },
   "outputs": [
    {
     "name": "stdout",
     "output_type": "stream",
     "text": [
      "loss at 0: 0.693009320808\n",
      "loss at 1: 0.69230769738\n",
      "loss at 2: 0.691607122605\n",
      "loss at 3: 0.690907594907\n",
      "loss at 4: 0.690209112716\n",
      "loss at 5: 0.689511674458\n",
      "loss at 6: 0.688815278564\n",
      "loss at 7: 0.688119923465\n",
      "loss at 8: 0.687425607592\n",
      "loss at 9: 0.686732329378\n",
      "loss at 10: 0.686040087257\n",
      "loss at 11: 0.685348879663\n",
      "loss at 12: 0.684658705034\n",
      "loss at 13: 0.683969561805\n",
      "loss at 14: 0.683281448416\n",
      "loss at 15: 0.682594363305\n",
      "loss at 16: 0.681908304913\n",
      "loss at 17: 0.681223271682\n",
      "loss at 18: 0.680539262054\n",
      "loss at 19: 0.679856274474\n",
      "loss at 20: 0.679174307386\n",
      "loss at 21: 0.678493359237\n",
      "loss at 22: 0.677813428473\n",
      "loss at 23: 0.677134513544\n",
      "loss at 24: 0.676456612898\n",
      "loss at 25: 0.675779724988\n",
      "loss at 26: 0.675103848265\n",
      "loss at 27: 0.674428981181\n",
      "loss at 28: 0.673755122193\n",
      "loss at 29: 0.673082269755\n",
      "loss at 30: 0.672410422324\n",
      "loss at 31: 0.671739578358\n",
      "loss at 32: 0.671069736316\n",
      "loss at 33: 0.67040089466\n",
      "loss at 34: 0.669733051851\n",
      "loss at 35: 0.669066206351\n",
      "loss at 36: 0.668400356626\n",
      "loss at 37: 0.66773550114\n",
      "loss at 38: 0.667071638361\n",
      "loss at 39: 0.666408766756\n",
      "loss at 40: 0.665746884796\n",
      "loss at 41: 0.665085990949\n",
      "loss at 42: 0.664426083689\n",
      "loss at 43: 0.663767161489\n",
      "loss at 44: 0.663109222823\n",
      "loss at 45: 0.662452266166\n",
      "loss at 46: 0.661796289997\n",
      "loss at 47: 0.661141292793\n",
      "loss at 48: 0.660487273034\n",
      "loss at 49: 0.659834229201\n",
      "loss at 50: 0.659182159776\n",
      "loss at 51: 0.658531063244\n",
      "loss at 52: 0.65788093809\n",
      "loss at 53: 0.657231782799\n",
      "loss at 54: 0.656583595859\n",
      "loss at 55: 0.65593637576\n",
      "loss at 56: 0.655290120993\n",
      "loss at 57: 0.654644830048\n",
      "loss at 58: 0.65400050142\n",
      "loss at 59: 0.653357133603\n",
      "loss at 60: 0.652714725092\n",
      "loss at 61: 0.652073274386\n",
      "loss at 62: 0.651432779983\n",
      "loss at 63: 0.650793240383\n",
      "loss at 64: 0.650154654088\n",
      "loss at 65: 0.649517019601\n",
      "loss at 66: 0.648880335426\n",
      "loss at 67: 0.648244600069\n",
      "loss at 68: 0.647609812037\n",
      "loss at 69: 0.64697596984\n",
      "loss at 70: 0.646343071986\n",
      "loss at 71: 0.645711116989\n",
      "loss at 72: 0.64508010336\n",
      "loss at 73: 0.644450029614\n",
      "loss at 74: 0.643820894268\n",
      "loss at 75: 0.643192695838\n",
      "loss at 76: 0.642565432843\n",
      "loss at 77: 0.641939103803\n",
      "loss at 78: 0.641313707241\n",
      "loss at 79: 0.64068924168\n",
      "loss at 80: 0.640065705643\n",
      "loss at 81: 0.639443097658\n",
      "loss at 82: 0.638821416253\n",
      "loss at 83: 0.638200659955\n",
      "loss at 84: 0.637580827297\n",
      "loss at 85: 0.636961916809\n",
      "loss at 86: 0.636343927027\n",
      "loss at 87: 0.635726856484\n",
      "loss at 88: 0.635110703718\n",
      "loss at 89: 0.634495467267\n",
      "loss at 90: 0.633881145671\n",
      "loss at 91: 0.63326773747\n",
      "loss at 92: 0.632655241208\n",
      "loss at 93: 0.632043655429\n",
      "loss at 94: 0.631432978679\n",
      "loss at 95: 0.630823209505\n",
      "loss at 96: 0.630214346457\n",
      "loss at 97: 0.629606388084\n",
      "loss at 98: 0.628999332939\n",
      "loss at 99: 0.628393179575\n",
      "Trained loss: 0.627787926547\n",
      "Accuracy 1.0\n",
      "[1 0 1 1 0 1 1 1 0 0 0 0 1 1 1 0 0 0 0 0 0 1 0 0 1 0]\n",
      "[1 0 1 1 0 1 1 1 0 0 0 0 1 1 1 0 0 0 0 0 0 1 0 0 1 0]\n"
     ]
    }
   ],
   "source": [
    "import autograd.numpy as np\n",
    "from autograd import grad\n",
    "\n",
    "# begin model\n",
    "def sigmoid(x):\n",
    "    return 1.0 / (1.0 + np.exp(-x))\n",
    "\n",
    "\n",
    "def logistic_predictions(weights, inputs):\n",
    "    return sigmoid(np.dot(inputs, weights))\n",
    "\n",
    "\n",
    "def training_loss(weights):\n",
    "    preds = logistic_predictions(weights, X_train_norm)\n",
    "    y1 = np.dot(y_train.T, np.log(preds))\n",
    "    y0 = np.dot(1 - y_train.T, np.log(1 - preds))\n",
    "    m = len(y_train)\n",
    "    \n",
    "    return (-1.0 / m) * (y0 + y1)[0]\n",
    "\n",
    "\n",
    "training_gradient_fun = grad(training_loss)\n",
    "\n",
    "size = (X_train_norm.shape[1], 1)\n",
    "std = 0.001\n",
    "mean = 0\n",
    "weights = np.random.normal(size=size, loc=mean, scale=std)\n",
    "# end model\n",
    "\n",
    "# begin optimization using gradient descent\n",
    "n_iters = 100\n",
    "alpha = 0.001\n",
    "for i in range(n_iters):\n",
    "    print(\"loss at %d:\" % i, training_loss(weights))\n",
    "    gradients = training_gradient_fun(weights)\n",
    "    weights -= (gradients * alpha)\n",
    "\n",
    "print(\"Trained loss:\", training_loss(weights))\n",
    "# end optimization\n",
    "\n",
    "y_hat = logistic_predictions(weights, X_test_norm)\n",
    "y_hat = np.round(y_hat).reshape(-1).astype('int')\n",
    "print('Accuracy', metrics.accuracy_score(y_test, y_hat))\n",
    "print(y_test)\n",
    "print(y_hat)"
   ]
  },
  {
   "cell_type": "markdown",
   "metadata": {
    "collapsed": true,
    "deletable": true,
    "editable": true
   },
   "source": [
    "![Logistic regression math](./images/logistic-regression-math.png)\n",
    "Fonte: http://www.ritchieng.com/logistic-regression/"
   ]
  },
  {
   "cell_type": "markdown",
   "metadata": {},
   "source": [
    "![Logistic regression gradient descent](./images/logistic-regression-gd.png)\n",
    "Fonte: http://www.ritchieng.com/logistic-regression/"
   ]
  },
  {
   "cell_type": "markdown",
   "metadata": {},
   "source": [
    "![Gradient Descent example](./images/gradient-descent.png)\n",
    "Fonte: http://firsttimeprogrammer.blogspot.com.br/2014/09/multivariable-gradient-descent.html"
   ]
  },
  {
   "cell_type": "code",
   "execution_count": null,
   "metadata": {
    "collapsed": true
   },
   "outputs": [],
   "source": []
  }
 ],
 "metadata": {
  "kernelspec": {
   "display_name": "Python 3",
   "language": "python",
   "name": "python3"
  },
  "language_info": {
   "codemirror_mode": {
    "name": "ipython",
    "version": 3
   },
   "file_extension": ".py",
   "mimetype": "text/x-python",
   "name": "python",
   "nbconvert_exporter": "python",
   "pygments_lexer": "ipython3",
   "version": "3.5.2"
  }
 },
 "nbformat": 4,
 "nbformat_minor": 2
}
