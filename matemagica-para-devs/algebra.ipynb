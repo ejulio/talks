{
 "cells": [
  {
   "cell_type": "markdown",
   "metadata": {
    "deletable": true,
    "editable": true
   },
   "source": [
    "Aqui temos uma revisão rápida sobre álgebra.\n",
    "Algumas conceitos que serão revistos:\n",
    "    * O que é uma equação?\n",
    "    * Como resolver uma equação?\n",
    "    * Operações comuns: exponenciação, logaritmos, raiz quadrada\n",
    "    * Gráficos de equações"
   ]
  },
  {
   "cell_type": "markdown",
   "metadata": {
    "deletable": true,
    "editable": true
   },
   "source": [
    "## O que é uma equação?\n",
    "\n",
    "Uma equação, no formato $y = x$ representa uma igualdade.\n",
    "\n",
    "Portanto, não é uma operação de atribuição (como nas linguagens de programação), mas sim a constatação de uma verdade."
   ]
  },
  {
   "cell_type": "markdown",
   "metadata": {
    "deletable": true,
    "editable": true
   },
   "source": [
    "Alguns exemplos de equações:\n",
    "\n",
    "* $y = 3x$\n",
    "* $10 = 10$\n",
    "* $10 = 3x$\n",
    "* $y = 3x^2 + 4x + 6$\n",
    "* $z = 2y + c$\n",
    "* $685 = 2x + 3c$\n",
    "* $7 = 2\\pi + b$"
   ]
  },
  {
   "cell_type": "markdown",
   "metadata": {
    "deletable": true,
    "editable": true
   },
   "source": [
    "## Como resolvemos uma equação?"
   ]
  },
  {
   "cell_type": "markdown",
   "metadata": {
    "deletable": true,
    "editable": true
   },
   "source": [
    "Como uma equação é uma constatação de verdade, sabemos que deve existir um $x$ tal que $10 = 3x$. Então:\n",
    "\n",
    "$$10 = 3x$$\n",
    "\n",
    "$$\\frac{1}{3} \\cdot 10 = \\frac{1}{3} \\cdot 3x$$\n",
    "\n",
    "$$\\frac{1}{3} \\cdot 10 = \\frac{1}{3} \\cdot 3x$$\n",
    "\n",
    "$$\\frac{10}{3} = x$$\n",
    "\n",
    "Ao substituir na equação original, temos:\n",
    "\n",
    "$$10 = 3 \\cdot \\frac{10}{3}$$\n",
    "\n",
    "$$10 = \\frac{30}{10}$$\n",
    "\n",
    "$$10 = 10$$"
   ]
  },
  {
   "cell_type": "markdown",
   "metadata": {
    "collapsed": true,
    "deletable": true,
    "editable": true
   },
   "source": [
    "Outro exemplo, $7 = 2\\pi + b$. Então:\n",
    "    \n",
    "$$7 = 2\\pi + b$$\n",
    "$$7 -2\\pi = 2\\pi + b - 2\\pi$$\n",
    "$$7 - 2\\pi = b$$\n",
    "\n",
    "Ao substituir na equação original, temos:\n",
    "\n",
    "$$7 = 2\\pi + 7 - 2\\pi$$\n",
    "$$7 = 7$$"
   ]
  },
  {
   "cell_type": "markdown",
   "metadata": {
    "deletable": true,
    "editable": true
   },
   "source": [
    "## Alguns pontos para relembrar\n",
    "\n",
    "Propriedade comutativa: $a + b = b + a$, $a + b + c = b + c + a$\n",
    "\n",
    "Propriedade distributiva: $a(b + c) = ab + ac$\n",
    "\n",
    "Propriedade associativa: $a + (b + c) = (a + b) + c$, $a(bc) = (ab)c$\n",
    "\n",
    "Ordem das operações\n",
    "\n",
    "$x + x = 2x$\n",
    "\n",
    "$x \\cdot x = x^2$"
   ]
  },
  {
   "cell_type": "markdown",
   "metadata": {
    "deletable": true,
    "editable": true
   },
   "source": [
    "## Operações comuns e gráficos\n",
    "\n",
    "Aqui vamos usar o https://www.desmos.com/calculator para desenhar o gráfico de equações/funções comuns.\n",
    "\n",
    "As funções abaixo são comuns e normalmente aparecem em outras equações mais complexas.\n",
    "\n",
    "Portanto, ao ver como elas se comportam podemos ter uma noção de como as mais complexas podem se comportar.\n",
    "\n",
    "Nos exemplos abaixo $a, b, c, d$ são constantes."
   ]
  },
  {
   "cell_type": "markdown",
   "metadata": {
    "deletable": true,
    "editable": true
   },
   "source": [
    "Reta: $y = ax + b$\n",
    "\n",
    "Parábola (quadrática): $y = ax^2 + bx + c$\n",
    "\n",
    "Cúbica: $y = ax^3 + bx^2 + cx + d$\n",
    "\n",
    "Exponencial: $y = e^x + a$\n",
    "\n",
    "Raiz quadrada: $y = \\sqrt{x} + a$\n",
    "\n",
    "Logaritmo: $y = \\text{log}(x) + a$"
   ]
  },
  {
   "cell_type": "markdown",
   "metadata": {
    "deletable": true,
    "editable": true
   },
   "source": [
    "## Operações inversas"
   ]
  },
  {
   "cell_type": "markdown",
   "metadata": {
    "deletable": true,
    "editable": true
   },
   "source": [
    "Durante a solução de equações, utilizamos operações inversas para isolar a incógnita ($x$, por exemplo) que desejamos.\n",
    "\n",
    "Por exemplo, na equação $7 = 2\\pi + b$, queríamos isolar $b$. Para isso, usamos a operação inversa $-2\\pi$ gerando a equação $7 - 2\\pi = b$.\n",
    "\n",
    "Abaixo temos algumas operações e suas inversas."
   ]
  },
  {
   "cell_type": "markdown",
   "metadata": {
    "deletable": true,
    "editable": true
   },
   "source": [
    "Soma/Subtração: $y = x + b$ então $y - b = x$\n",
    "\n",
    "Multiplicação/divisão: $y = ax$ então $\\frac{y}{a} = x$\n",
    "\n",
    "Potência/raiz: $y = x^a$ então $\\sqrt[^a]{y} = x$\n",
    "\n",
    "Exponencial/logaritmo: $y = e^x$ então $\\text{log}(y) = x$"
   ]
  },
  {
   "cell_type": "markdown",
   "metadata": {},
   "source": [
    "## Extras e algumas curiosidades"
   ]
  },
  {
   "cell_type": "markdown",
   "metadata": {},
   "source": [
    "### Somatório\n",
    "\n",
    "$$\\sum_{i=1}^{10}i = 1 + 2 + 3 + 4 + 5 + 6 + 7 + 8 + 9 + 10$$"
   ]
  },
  {
   "cell_type": "code",
   "execution_count": 1,
   "metadata": {
    "collapsed": false
   },
   "outputs": [
    {
     "name": "stdout",
     "output_type": "stream",
     "text": [
      "55\n"
     ]
    }
   ],
   "source": [
    "# em código procedural\n",
    "\n",
    "somatorio = 0\n",
    "for i in range(1, 11):\n",
    "    somatorio += i\n",
    "\n",
    "print(somatorio)"
   ]
  },
  {
   "cell_type": "code",
   "execution_count": 2,
   "metadata": {
    "collapsed": false
   },
   "outputs": [
    {
     "name": "stdout",
     "output_type": "stream",
     "text": [
      "55\n"
     ]
    }
   ],
   "source": [
    "# versão simplificada\n",
    "print(sum(range(1, 11)))"
   ]
  },
  {
   "cell_type": "markdown",
   "metadata": {},
   "source": [
    "$$\\sum_{n=0}^{\\infty}\\frac{1}{2^n} = \\frac{1}{2^0} + \\frac{1}{2^1} + \\frac{1}{2^2} + \\frac{1}{2^3} + \\frac{1}{2^4} + ... + \\frac{1}{2^\\infty}$$"
   ]
  },
  {
   "cell_type": "code",
   "execution_count": 9,
   "metadata": {
    "collapsed": false
   },
   "outputs": [
    {
     "name": "stdout",
     "output_type": "stream",
     "text": [
      "1.0\n"
     ]
    }
   ],
   "source": [
    "# não podemos somar até o infinito :(\n",
    "# definimos um número máximo N\n",
    "\n",
    "N = 1\n",
    "generator = (1 / (2 ** n) for n in range(N))\n",
    "print(sum(generator))"
   ]
  },
  {
   "cell_type": "markdown",
   "metadata": {},
   "source": [
    "### Produtório\n",
    "\n",
    "$$\\prod_{i=1}^{10}i = 1 \\cdot 2 \\cdot 3 \\cdot 4 \\cdot 5 \\cdot 6 \\cdot 7 \\cdot 8 \\cdot 9 \\cdot 10$$"
   ]
  },
  {
   "cell_type": "code",
   "execution_count": 11,
   "metadata": {
    "collapsed": false
   },
   "outputs": [
    {
     "name": "stdout",
     "output_type": "stream",
     "text": [
      "3628800\n"
     ]
    }
   ],
   "source": [
    "# em código procedural\n",
    "\n",
    "produtorio = 1\n",
    "for i in range(1, 11):\n",
    "    produtorio *= i\n",
    "\n",
    "print(produtorio)"
   ]
  },
  {
   "cell_type": "code",
   "execution_count": 15,
   "metadata": {
    "collapsed": false
   },
   "outputs": [
    {
     "name": "stdout",
     "output_type": "stream",
     "text": [
      "3628800\n"
     ]
    }
   ],
   "source": [
    "from functools import reduce\n",
    "\n",
    "produtorio = reduce(lambda a, v: a * v, range(1, 11))\n",
    "print(produtorio)"
   ]
  },
  {
   "cell_type": "markdown",
   "metadata": {},
   "source": [
    "### Uma propriedade interessante do log"
   ]
  },
  {
   "cell_type": "markdown",
   "metadata": {},
   "source": [
    "$$\\text{log} \\prod_{i}^{N}f(i) \\propto \\sum_{i}^{N}\\text{log } f(i)$$"
   ]
  },
  {
   "cell_type": "markdown",
   "metadata": {},
   "source": [
    "O log de uma multiplicação é proporcional a soma dos logs"
   ]
  },
  {
   "cell_type": "code",
   "execution_count": 38,
   "metadata": {
    "collapsed": false
   },
   "outputs": [
    {
     "name": "stdout",
     "output_type": "stream",
     "text": [
      "1.071510288125466e-156\n",
      "1.0607951852442112e-154\n",
      "True\n"
     ]
    }
   ],
   "source": [
    "# exemplo naive\n",
    "\n",
    "N = 100\n",
    "produtorio1 = reduce(lambda a, v: a * (1.0 / v), range(1, N))\n",
    "print(produtorio1)\n",
    "\n",
    "N = N - 1\n",
    "produtorio2 = reduce(lambda a, v: a * (1.0 / v), range(1, N))\n",
    "print(produtorio2)\n",
    "\n",
    "print(produtorio1 < produtorio2)"
   ]
  },
  {
   "cell_type": "code",
   "execution_count": 39,
   "metadata": {
    "collapsed": false
   },
   "outputs": [
    {
     "name": "stdout",
     "output_type": "stream",
     "text": [
      "-359.13420537\n",
      "-354.539085519\n",
      "True\n"
     ]
    }
   ],
   "source": [
    "import numpy as np\n",
    "\n",
    "N = 100\n",
    "somatorio1 = sum(np.log(1.0 / n) for n in range(1, N))\n",
    "print(somatorio1)\n",
    "\n",
    "N = N - 1\n",
    "somatorio2 = sum(np.log(1.0 / n) for n in range(1, N))\n",
    "print(somatorio2)\n",
    "\n",
    "print(produtorio1 < produtorio2)"
   ]
  },
  {
   "cell_type": "markdown",
   "metadata": {
    "deletable": true,
    "editable": true
   },
   "source": [
    "# Algumas curiosidades: infinitos, raiz de 2, hotel de hilbert, paradoxo de zeno, propriedades de log?"
   ]
  },
  {
   "cell_type": "code",
   "execution_count": null,
   "metadata": {
    "collapsed": true,
    "deletable": true,
    "editable": true
   },
   "outputs": [],
   "source": []
  }
 ],
 "metadata": {
  "kernelspec": {
   "display_name": "Python 3",
   "language": "python",
   "name": "python3"
  },
  "language_info": {
   "codemirror_mode": {
    "name": "ipython",
    "version": 3
   },
   "file_extension": ".py",
   "mimetype": "text/x-python",
   "name": "python",
   "nbconvert_exporter": "python",
   "pygments_lexer": "ipython3",
   "version": "3.5.2"
  }
 },
 "nbformat": 4,
 "nbformat_minor": 2
}
