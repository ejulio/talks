{
 "cells": [
  {
   "cell_type": "markdown",
   "metadata": {
    "deletable": true,
    "editable": true
   },
   "source": [
    "Aqui temos uma revisão rápida sobre álgebra.\n",
    "Algumas conceitos que serão revistos:\n",
    "    * O que é uma equação?\n",
    "    * Como resolver uma equação?\n",
    "    * Operações comuns: exponenciação, logaritmos, raiz quadrada\n",
    "    * Gráficos de equações"
   ]
  },
  {
   "cell_type": "markdown",
   "metadata": {
    "deletable": true,
    "editable": true
   },
   "source": [
    "## O que é uma equação?\n",
    "\n",
    "Uma equação, no formato $y = x$ representa uma igualdade.\n",
    "\n",
    "Portanto, não é uma operação de atribuição (como nas linguagens de programação), mas sim a constatação de uma verdade."
   ]
  },
  {
   "cell_type": "markdown",
   "metadata": {
    "deletable": true,
    "editable": true
   },
   "source": [
    "Alguns exemplos de equações:\n",
    "\n",
    "* $y = 3x$\n",
    "* $10 = 10$\n",
    "* $10 = 3x$\n",
    "* $y = 3x^2 + 4x + 6$\n",
    "* $z = 2y + c$\n",
    "* $685 = 2x + 3c$\n",
    "* $7 = 2\\pi + b$"
   ]
  },
  {
   "cell_type": "markdown",
   "metadata": {
    "deletable": true,
    "editable": true
   },
   "source": [
    "## Como resolvemos uma equação?"
   ]
  },
  {
   "cell_type": "markdown",
   "metadata": {
    "deletable": true,
    "editable": true
   },
   "source": [
    "Como uma equação é uma constatação de verdade, sabemos que deve existir um $x$ tal que $10 = 3x$. Então:\n",
    "\n",
    "$$10 = 3x$$\n",
    "\n",
    "$$\\frac{1}{3} \\cdot 10 = \\frac{1}{3} \\cdot 3x$$\n",
    "\n",
    "$$\\frac{1}{3} \\cdot 10 = \\frac{1}{3} \\cdot 3x$$\n",
    "\n",
    "$$\\frac{10}{3} = x$$\n",
    "\n",
    "Ao substituir na equação original, temos:\n",
    "\n",
    "$$10 = 3 \\cdot \\frac{10}{3}$$\n",
    "\n",
    "$$10 = \\frac{30}{10}$$\n",
    "\n",
    "$$10 = 10$$"
   ]
  },
  {
   "cell_type": "markdown",
   "metadata": {
    "collapsed": true,
    "deletable": true,
    "editable": true
   },
   "source": [
    "Outro exemplo, $7 = 2\\pi + b$. Então:\n",
    "    \n",
    "$$7 = 2\\pi + b$$\n",
    "$$7 -2\\pi = 2\\pi + b - 2\\pi$$\n",
    "$$7 - 2\\pi = b$$\n",
    "\n",
    "Ao substituir na equação original, temos:\n",
    "\n",
    "$$7 = 2\\pi + 7 - 2\\pi$$\n",
    "$$7 = 7$$"
   ]
  },
  {
   "cell_type": "markdown",
   "metadata": {},
   "source": [
    "## Alguns pontos para relembrar\n",
    "\n",
    "Propriedade comutativa: $a + b = b + a$, $a + b + c = b + c + a$\n",
    "\n",
    "Propriedade distributiva: $a(b + c) = ab + ac$\n",
    "\n",
    "Propriedade associativa: $a + (b + c) = (a + b) + c$, $a(bc) = (ab)c$\n",
    "\n",
    "Ordem das operações\n",
    "\n",
    "$x + x = 2x$\n",
    "\n",
    "$x \\cdot x = x^2$"
   ]
  },
  {
   "cell_type": "markdown",
   "metadata": {},
   "source": [
    "## Operações comuns e gráficos\n",
    "\n",
    "Aqui vamos usar o https://www.desmos.com/calculator para desenhar o gráfico de equações/funções comuns.\n",
    "\n",
    "As funções abaixo são comuns e normalmente aparecem em outras equações mais complexas.\n",
    "\n",
    "Portanto, ao ver como elas se comportam podemos ter uma noção de como as mais complexas podem se comportar.\n",
    "\n",
    "Nos exemplos abaixo $a, b, c, d$ são constantes."
   ]
  },
  {
   "cell_type": "markdown",
   "metadata": {},
   "source": [
    "Reta: $y = ax + b$\n",
    "\n",
    "Parábola (quadrática): $y = ax^2 + bx + c$\n",
    "\n",
    "Cúbica: $y = ax^3 + bx^2 + cx + d$\n",
    "\n",
    "Exponencial: $y = e^x + a$\n",
    "\n",
    "Raiz quadrada: $y = \\sqrt{x} + a$\n",
    "\n",
    "Logaritmo: $y = \\text{log}(x) + a$"
   ]
  },
  {
   "cell_type": "markdown",
   "metadata": {},
   "source": [
    "## Operações inversas"
   ]
  },
  {
   "cell_type": "markdown",
   "metadata": {},
   "source": [
    "Durante a solução de equações, utilizamos operações inversas para isolar a incógnita ($x$, por exemplo) que desejamos.\n",
    "\n",
    "Por exemplo, na equação $7 = 2\\pi + b$, queríamos isolar $b$. Para isso, usamos a operação inversa $-2\\pi$ gerando a equação $7 - 2\\pi = b$.\n",
    "\n",
    "Abaixo temos algumas operações e suas inversas."
   ]
  },
  {
   "cell_type": "markdown",
   "metadata": {},
   "source": [
    "Soma/Subtração: $y = x + b$ então $y - b = x$\n",
    "\n",
    "Multiplicação/divisão: $y = ax$ então $\\frac{y}{a} = x$\n",
    "\n",
    "Potência/raiz: $y = x^a$ então $\\sqrt[^a]{y} = x$\n",
    "\n",
    "Exponencial/logaritmo: $y = e^x$ então $\\text{log}(y) = x$"
   ]
  },
  {
   "cell_type": "markdown",
   "metadata": {},
   "source": [
    "# Algumas curiosidades: infinitos, raiz de 2, hotel de hilbert, paradoxo de zeno, propriedades de log?"
   ]
  },
  {
   "cell_type": "code",
   "execution_count": null,
   "metadata": {
    "collapsed": true
   },
   "outputs": [],
   "source": []
  }
 ],
 "metadata": {
  "kernelspec": {
   "display_name": "Python 3",
   "language": "python",
   "name": "python3"
  },
  "language_info": {
   "codemirror_mode": {
    "name": "ipython",
    "version": 3
   },
   "file_extension": ".py",
   "mimetype": "text/x-python",
   "name": "python",
   "nbconvert_exporter": "python",
   "pygments_lexer": "ipython3",
   "version": "3.5.2"
  }
 },
 "nbformat": 4,
 "nbformat_minor": 2
}
