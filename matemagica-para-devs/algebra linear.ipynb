{
 "cells": [
  {
   "cell_type": "markdown",
   "metadata": {},
   "source": [
    "Aqui vamos rever os seguintes conceitos sobre álgebra linear\n",
    "\n",
    "* O que são vetores?\n",
    "* O que são matrizes?\n",
    "* Multiplicação matriz x vetor e vetor x vetor\n",
    "* Tamanho de um vetor (norm)"
   ]
  },
  {
   "cell_type": "markdown",
   "metadata": {},
   "source": [
    "Material auxiliar\n",
    "\n",
    "Essence of Linear Algebra por 3Blue1Brown no YouTube https://www.youtube.com/watch?v=kjBOesZCoqc&list=PLZHQObOWTQDPD3MizzM2xVFitgF8hE_ab&index=1"
   ]
  },
  {
   "cell_type": "code",
   "execution_count": 5,
   "metadata": {},
   "outputs": [],
   "source": [
    "import numpy as np"
   ]
  },
  {
   "cell_type": "code",
   "execution_count": 1,
   "metadata": {},
   "outputs": [],
   "source": [
    "## O que são vetores?"
   ]
  },
  {
   "cell_type": "code",
   "execution_count": 2,
   "metadata": {},
   "outputs": [],
   "source": [
    "## O que são matrizes?"
   ]
  },
  {
   "cell_type": "markdown",
   "metadata": {},
   "source": [
    "## Multiplicação matriz x vetor"
   ]
  },
  {
   "cell_type": "markdown",
   "metadata": {},
   "source": [
    "A multiplicação de uma matriz por um vetor resulta em uma transformação linear do vetor.\n",
    "\n",
    "A matriz representa a transformação e o vetor representa as coordenadas iniciais.\n",
    "\n",
    "A multiplicação de uma matriz por um vetor tem a forma\n",
    "\n",
    "$$\n",
    "\\begin{bmatrix}\n",
    "a & b \\\\\n",
    "c & d\n",
    "\\end{bmatrix}\n",
    "\\begin{bmatrix} e \\\\ f \\end{bmatrix}\n",
    "=\n",
    "e\n",
    "\\begin{bmatrix} a \\\\ c \\end{bmatrix}\n",
    "+\n",
    "f\n",
    "\\begin{bmatrix} b \\\\ d \\end{bmatrix}\n",
    "=\n",
    "\\begin{bmatrix}\n",
    "ae + bf \\\\\n",
    "ce + df\n",
    "\\end{bmatrix}\n",
    "$$"
   ]
  },
  {
   "cell_type": "code",
   "execution_count": 12,
   "metadata": {},
   "outputs": [
    {
     "name": "stdout",
     "output_type": "stream",
     "text": [
      "[[ 3.]\n",
      " [ 2.]]\n",
      "[[3]\n",
      " [2]]\n",
      "[[3]\n",
      " [2]]\n"
     ]
    }
   ],
   "source": [
    "# em código\n",
    "\n",
    "matriz = np.array([\n",
    "    [0, 1],\n",
    "    [1, 0]\n",
    "])\n",
    "\n",
    "vetor = np.array([\n",
    "    [2],\n",
    "    [3]\n",
    "])\n",
    "\n",
    "resultado = np.zeros(vetor.shape)\n",
    "for i in range(vetor.shape[0]):\n",
    "    resultado[:, 0] += vetor[i, 0] * matriz[:, i]\n",
    "print(resultado)\n",
    "\n",
    "# usando numpy\n",
    "resultado = np.dot(matriz, vetor)\n",
    "print(resultado)\n",
    "\n",
    "# usando operador\n",
    "resultado = matriz @ vetor\n",
    "print(resultado)"
   ]
  },
  {
   "cell_type": "markdown",
   "metadata": {},
   "source": [
    "A matriz não precisa ser quadrada como no exemplo acima. Por exemplo:\n",
    "\n",
    "$$\n",
    "\\begin{bmatrix}\n",
    "a & b & c \\\\\n",
    "d & e & f\n",
    "\\end{bmatrix}\n",
    "\\begin{bmatrix} x \\\\ y \\\\ z \\end{bmatrix}\n",
    "=\n",
    "x\n",
    "\\begin{bmatrix} a \\\\ d \\end{bmatrix}\n",
    "+\n",
    "y\n",
    "\\begin{bmatrix} b \\\\ e \\end{bmatrix}\n",
    "+\n",
    "z\n",
    "\\begin{bmatrix} c \\\\ f \\end{bmatrix}\n",
    "=\n",
    "\\begin{bmatrix}\n",
    "ax + by + cz \\\\\n",
    "dx + ey + fz\n",
    "\\end{bmatrix}\n",
    "$$"
   ]
  },
  {
   "cell_type": "code",
   "execution_count": 13,
   "metadata": {},
   "outputs": [
    {
     "name": "stdout",
     "output_type": "stream",
     "text": [
      "[[ 7.25]\n",
      " [ 4.81]]\n"
     ]
    }
   ],
   "source": [
    "matriz = np.array([\n",
    "    [0.25, 1.0, 5.06],\n",
    "    [1.31, 0.5, 2.33]\n",
    "])\n",
    "\n",
    "vetor = np.array([\n",
    "    [1],\n",
    "    [7],\n",
    "    [0]\n",
    "])\n",
    "\n",
    "resultado = matriz @ vetor\n",
    "print(resultado)"
   ]
  },
  {
   "cell_type": "markdown",
   "metadata": {},
   "source": [
    "## Medindo o tamanho de vetores e matrizes"
   ]
  },
  {
   "cell_type": "markdown",
   "metadata": {},
   "source": [
    "O tamanho de um vetor é medido pela *p-norm*. Quando $p=1$ temos a distância Manhattan e a distância euclidiana quando $p=2$.\n",
    "\n",
    "A *p-norm* de um vetor $\\mathbf{x}$ é calculada como \n",
    "$\\lvert \\mathbf{x} \\rvert_p = (\\sum_{i=1}^{n}\\lvert \\mathbf{x}_i \\rvert^p)^{\\frac{1}{p}}$"
   ]
  },
  {
   "cell_type": "code",
   "execution_count": 16,
   "metadata": {},
   "outputs": [
    {
     "name": "stdout",
     "output_type": "stream",
     "text": [
      "7.07106781187\n",
      "7.07106781187\n"
     ]
    }
   ],
   "source": [
    "# em código\n",
    "vetor = np.array([\n",
    "    [1],\n",
    "    [7],\n",
    "    [0]\n",
    "])\n",
    "\n",
    "p = 2\n",
    "norm = 0\n",
    "for i in range(vetor.shape[0]):\n",
    "    norm += np.abs(vetor[i, 0]) ** p\n",
    "norm = norm ** (1.0 / p)\n",
    "print(norm)\n",
    "\n",
    "# com numpy\n",
    "norm = np.linalg.norm(vetor, 2)\n",
    "print(norm)"
   ]
  },
  {
   "cell_type": "markdown",
   "metadata": {},
   "source": [
    "Para matrizes, existe um operador similar conhecido como *Frobenius norm*.\n",
    "\n",
    "A *Frobenius norm* de uma matriz $\\mathbf{A}$ é calculada como \n",
    "$\\lvert \\lvert \\mathbf{A} \\rvert \\rvert_F = (\\sum_{i=1}^{m}\\sum_{j=1}^{n}\\lvert \\mathbf{A}_{ij} \\rvert^2)^{\\frac{1}{2}}$"
   ]
  },
  {
   "cell_type": "code",
   "execution_count": 22,
   "metadata": {},
   "outputs": [
    {
     "name": "stdout",
     "output_type": "stream",
     "text": [
      "12.2882057274\n",
      "12.2882057274\n",
      "12.2882057274\n"
     ]
    }
   ],
   "source": [
    "# em código\n",
    "matriz = np.array([\n",
    "    [1, 2],\n",
    "    [7, 4],\n",
    "    [0, 9]\n",
    "])\n",
    "\n",
    "norm = 0\n",
    "for i in range(matriz.shape[0]):\n",
    "    for j in range(matriz.shape[1]):\n",
    "        norm += np.abs(matriz[i, j]) ** 2\n",
    "norm = norm ** (1.0 / 2)\n",
    "print(norm)\n",
    "\n",
    "# outra opção\n",
    "norm = np.sqrt(np.square(np.abs(matriz)).sum())\n",
    "print(norm)\n",
    "\n",
    "# com numpy\n",
    "norm = np.linalg.norm(matriz, 'fro')\n",
    "print(norm)"
   ]
  },
  {
   "cell_type": "code",
   "execution_count": null,
   "metadata": {},
   "outputs": [],
   "source": []
  }
 ],
 "metadata": {
  "kernelspec": {
   "display_name": "Python 3",
   "language": "python",
   "name": "python3"
  },
  "language_info": {
   "codemirror_mode": {
    "name": "ipython",
    "version": 3
   },
   "file_extension": ".py",
   "mimetype": "text/x-python",
   "name": "python",
   "nbconvert_exporter": "python",
   "pygments_lexer": "ipython3",
   "version": "3.6.3"
  }
 },
 "nbformat": 4,
 "nbformat_minor": 2
}
