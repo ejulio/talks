{
 "cells": [
  {
   "cell_type": "markdown",
   "metadata": {},
   "source": [
    "Aqui vamos rever os seguintes conceitos de estatística:\n",
    "\n",
    "* O que é uma distribuição?\n",
    "* Quais os tipos de distribuição existentes?\n",
    "* O que é a média, moda, mediana, desvio padrão?\n",
    "* Normalização de dados\n",
    "* Central Limit Theorem"
   ]
  },
  {
   "cell_type": "code",
   "execution_count": 2,
   "metadata": {},
   "outputs": [],
   "source": [
    "%matplotlib inline\n",
    "import numpy as np\n",
    "import seaborn as sns"
   ]
  },
  {
   "cell_type": "markdown",
   "metadata": {},
   "source": [
    "## O que é uma distribuição?"
   ]
  },
  {
   "cell_type": "markdown",
   "metadata": {
    "collapsed": true
   },
   "source": [
    "É uma representação dos valores em um conjunto de dados e a frequência com que ocorrem.\n",
    "\n",
    "Por exemplo, podemos jogar um par de dados e temos as seguintes possibilidades\n",
    "\n",
    "| Soma | Frequência |\n",
    "| ---- | ---------- |\n",
    "| 2    | 1          |\n",
    "| 3    | 1          |\n",
    "| 4    | 2          |\n",
    "| 5    | 2          |\n",
    "| 6    | 3          |\n",
    "| 7    | 3          |\n",
    "| 8    | 3          |\n",
    "| 9    | 2          |\n",
    "| 10   | 2          |\n",
    "| 11   | 1          |\n",
    "| 12   | 1          |\n",
    "\n",
    "Soma é a soma do número em cada dado. Por exemplo, se um dado caiu com 2 e o outro com 3, então soma = 5.\n",
    "\n",
    "Frequência é a quantidade de vezes que a soma pode ocorrer. Por exemplo, 12 só pode ocorrer se os dois dados caírem com 6.\n",
    "Da mesma forma, 6 pode ocorrer em caso dos dados caírem com os pares (3, 3), (4, 2) e (5, 1)."
   ]
  },
  {
   "cell_type": "markdown",
   "metadata": {},
   "source": [
    "Em um \"gráfico\"\n",
    "\n",
    "|  - |  - |  - |  - |  - |  - |  - |  - |  - |  - |  - |\n",
    "|----|----|----|----|----|----|----|----|----|----|----|\n",
    "|    |    |    |    | *  | *  | *  |    |    |    |    |\n",
    "|    |    | *  | *  | *  | *  | *  | *  | *  |    |    |\n",
    "| *  | *  | *  | *  | *  | *  | *  | *  | *  | *  | *  |\n",
    "| 2  | 3  | 4  | 5  | 6  | 7  | 8  | 9  | 10 | 11 | 12 |"
   ]
  },
  {
   "cell_type": "markdown",
   "metadata": {},
   "source": [
    "## Quantas amostras até ter uma boa distribuição?"
   ]
  },
  {
   "cell_type": "code",
   "execution_count": 3,
   "metadata": {},
   "outputs": [
    {
     "data": {
      "text/plain": [
       "<matplotlib.axes._subplots.AxesSubplot at 0x2e3e3ec5e48>"
      ]
     },
     "execution_count": 3,
     "metadata": {},
     "output_type": "execute_result"
    },
    {
     "data": {
      "image/png": "[encoded data removed]",
      "text/plain": [
       "<matplotlib.figure.Figure at 0x2e3e3ec57f0>"
      ]
     },
     "metadata": {},
     "output_type": "display_data"
    }
   ],
   "source": [
    "N = 5\n",
    "x = np.random.random(size=N)\n",
    "sns.distplot(x, kde=False)"
   ]
  },
  {
   "cell_type": "code",
   "execution_count": 4,
   "metadata": {},
   "outputs": [
    {
     "data": {
      "text/plain": [
       "<matplotlib.axes._subplots.AxesSubplot at 0x2e3e3f4f5f8>"
      ]
     },
     "execution_count": 4,
     "metadata": {},
     "output_type": "execute_result"
    },
    {
     "data": {
      "image/png": "[encoded data removed]",
      "text/plain": [
       "<matplotlib.figure.Figure at 0x2e3e5f6efd0>"
      ]
     },
     "metadata": {},
     "output_type": "display_data"
    }
   ],
   "source": [
    "N = 5000\n",
    "x = np.random.random(size=N)\n",
    "sns.distplot(x, kde=False)"
   ]
  },
  {
   "cell_type": "markdown",
   "metadata": {},
   "source": [
    "## Alguns tipos de distribuição"
   ]
  },
  {
   "cell_type": "markdown",
   "metadata": {},
   "source": [
    "Em uma distribuição uniforme, todos os valores tem \"a mesma probabilidade\" de ocorrer."
   ]
  },
  {
   "cell_type": "code",
   "execution_count": 5,
   "metadata": {},
   "outputs": [
    {
     "data": {
      "text/plain": [
       "<matplotlib.axes._subplots.AxesSubplot at 0x2e3d46588d0>"
      ]
     },
     "execution_count": 5,
     "metadata": {},
     "output_type": "execute_result"
    },
    {
     "data": {
      "image/png": "[encoded data removed]",
      "text/plain": [
       "<matplotlib.figure.Figure at 0x2e3e6018588>"
      ]
     },
     "metadata": {},
     "output_type": "display_data"
    }
   ],
   "source": [
    "uniforme = np.random.uniform(size=N)\n",
    "sns.distplot(uniforme, kde=True)"
   ]
  },
  {
   "cell_type": "markdown",
   "metadata": {},
   "source": [
    "Em uma distribuição normal (gaussiana) os valores mais próximos de $\\mu$ (média) com $\\pm \\sigma$ (desvio padrão) são mais frequentes."
   ]
  },
  {
   "cell_type": "code",
   "execution_count": 6,
   "metadata": {},
   "outputs": [
    {
     "data": {
      "text/plain": [
       "<matplotlib.axes._subplots.AxesSubplot at 0x2e3e70b6048>"
      ]
     },
     "execution_count": 6,
     "metadata": {},
     "output_type": "execute_result"
    },
    {
     "data": {
      "image/png": "[encoded data removed]",
      "text/plain": [
       "<matplotlib.figure.Figure at 0x2e3e70659e8>"
      ]
     },
     "metadata": {},
     "output_type": "display_data"
    }
   ],
   "source": [
    "media = 5\n",
    "desvio_padrao = 2\n",
    "normal = np.random.normal(loc=media, scale=desvio_padrao, size=N)\n",
    "sns.distplot(normal, kde=True)"
   ]
  },
  {
   "cell_type": "markdown",
   "metadata": {},
   "source": [
    "Em uma distribuição exponencial, os valores da calda são mais frequentes."
   ]
  },
  {
   "cell_type": "code",
   "execution_count": 7,
   "metadata": {},
   "outputs": [
    {
     "data": {
      "text/plain": [
       "<matplotlib.axes._subplots.AxesSubplot at 0x2e3e7098240>"
      ]
     },
     "execution_count": 7,
     "metadata": {},
     "output_type": "execute_result"
    },
    {
     "data": {
      "image/png": "[encoded data removed]",
      "text/plain": [
       "<matplotlib.figure.Figure at 0x2e3e917ccf8>"
      ]
     },
     "metadata": {},
     "output_type": "display_data"
    }
   ],
   "source": [
    "beta = 1.0 / 0.1\n",
    "exponencial = np.random.exponential(scale=beta, size=N)\n",
    "sns.distplot(exponencial, kde=True)"
   ]
  },
  {
   "cell_type": "markdown",
   "metadata": {},
   "source": [
    "## Medidas de tendência central: média, moda, mediana"
   ]
  },
  {
   "cell_type": "markdown",
   "metadata": {
    "collapsed": true
   },
   "source": [
    "Estas três medidas de tendência central indicam, como é de se esperar, onde é o centro de uma distribuição.\n",
    "Não é o caso de sempre ser exatamente o centro, mas a ideia é estar próximo."
   ]
  },
  {
   "cell_type": "code",
   "execution_count": 8,
   "metadata": {},
   "outputs": [],
   "source": [
    "# vamos assumir um conjunto de dados aleatórios x com N amostras\n",
    "\n",
    "N = 1000\n",
    "x = np.random.random(1000)"
   ]
  },
  {
   "cell_type": "markdown",
   "metadata": {},
   "source": [
    "A média é calculada conforme $\\bar{x} = \\frac{1}{N}\\sum_{i=1}^{N}x_i$"
   ]
  },
  {
   "cell_type": "code",
   "execution_count": 9,
   "metadata": {},
   "outputs": [
    {
     "name": "stdout",
     "output_type": "stream",
     "text": [
      "0.521596074668\n",
      "0.521596074668\n",
      "0.521596074668\n"
     ]
    }
   ],
   "source": [
    "# existem algumas formas de calcular a média com python\n",
    "\n",
    "# um for padrão\n",
    "media = 0\n",
    "for i in range(N):\n",
    "    media += x[i]\n",
    "\n",
    "media = (1.0 / N) * media\n",
    "print(media)\n",
    "\n",
    "# utilizando a soma\n",
    "media = (1.0 / N) * sum(x)\n",
    "print(media)\n",
    "\n",
    "# utilizando a função mean\n",
    "media = np.mean(x)\n",
    "print(media)"
   ]
  },
  {
   "cell_type": "markdown",
   "metadata": {},
   "source": [
    "A mediana é o valor exatamente no centro do conjunto de dados. Portanto, 50% dos dados são menores que a mediana e 50% \n",
    "são maiores.\n",
    "\n",
    "Para um conjunto com tamanho ímpar, a mediana é definida como $\\hat{x} = x_{\\frac{N + 1}{2}}$ sendo que x é um conjunto\n",
    "ordenado.\n",
    "\n",
    "Para um conjunto de tamanho par, a mediana é definida como $\\hat{x} = \\frac{1}{2} * (x_{\\frac{N}{2}} + x_{\\frac{N}{2} - 1})$ sendo que x é um conjunto"
   ]
  },
  {
   "cell_type": "code",
   "execution_count": 10,
   "metadata": {},
   "outputs": [
    {
     "name": "stdout",
     "output_type": "stream",
     "text": [
      "0.531223772005\n",
      "0.531223772005\n"
     ]
    }
   ],
   "source": [
    "# também existem algumas formas de encontrar a variância\n",
    "\n",
    "# ordenando e obtendo os valores\n",
    "s = sorted(x)\n",
    "mediana = (1.0 / 2) * (s[int(N / 2)] + s[int(N / 2) - 1])\n",
    "print(mediana)\n",
    "\n",
    "# função median\n",
    "mediana = np.median(x)\n",
    "print(mediana)"
   ]
  },
  {
   "cell_type": "markdown",
   "metadata": {},
   "source": [
    "A moda é simplesmente o valor mais frequente no conjunto de dados."
   ]
  },
  {
   "cell_type": "code",
   "execution_count": 11,
   "metadata": {},
   "outputs": [
    {
     "name": "stdout",
     "output_type": "stream",
     "text": [
      "ModeResult(mode=array([ 0.0014021]), count=array([1]))\n"
     ]
    }
   ],
   "source": [
    "# aqui vamos direto ao ponto\n",
    "from scipy.stats import mode\n",
    "\n",
    "moda = mode(x)\n",
    "print(moda)"
   ]
  },
  {
   "cell_type": "code",
   "execution_count": 12,
   "metadata": {},
   "outputs": [
    {
     "data": {
      "text/plain": [
       "(1000,)"
      ]
     },
     "execution_count": 12,
     "metadata": {},
     "output_type": "execute_result"
    }
   ],
   "source": [
    "# contando os valores únicos no conjunto de dados\n",
    "(unicos, quantidades) = np.unique(x, return_counts=True)\n",
    "unicos.shape"
   ]
  },
  {
   "cell_type": "code",
   "execution_count": 13,
   "metadata": {},
   "outputs": [
    {
     "name": "stdout",
     "output_type": "stream",
     "text": [
      "8 9\n",
      "[ 90  97  85  96 107  94  91 108 118 114]\n",
      "[ 0.0014021   0.10098917  0.20057625  0.30016333  0.3997504   0.49933748\n",
      "  0.59892456  0.69851163  0.79809871  0.89768579  0.99727286]\n"
     ]
    }
   ],
   "source": [
    "# separamos os valores em 10 conjuntos\n",
    "(quantidades, bins) = np.histogram(x, bins=10)\n",
    "\n",
    "# pegamos o índice com maior quantidade de valores\n",
    "indice = np.argmax(quantidades)\n",
    "\n",
    "print(indice, indice + 1)\n",
    "print(quantidades)\n",
    "print(bins)"
   ]
  },
  {
   "cell_type": "markdown",
   "metadata": {},
   "source": [
    "## Quanto a minha distribuição está espalhada?"
   ]
  },
  {
   "cell_type": "markdown",
   "metadata": {
    "collapsed": true
   },
   "source": [
    "A variância e o desvio padrão ajudam a entender como os dados estão organizados.\n",
    "\n",
    "Principalmente se a distribuição seguir a forma de uma distribuição normal."
   ]
  },
  {
   "cell_type": "markdown",
   "metadata": {},
   "source": [
    "A variância é a média dos desvios em relação à média do conjunto.\n",
    "\n",
    "Calculamos a variância como: $x_\\text{var} = \\frac{1}{N}\\sum_{i=1}^{N}(x_i - \\bar{x})^2$"
   ]
  },
  {
   "cell_type": "code",
   "execution_count": 16,
   "metadata": {},
   "outputs": [
    {
     "name": "stdout",
     "output_type": "stream",
     "text": [
      "0.0840223445678\n",
      "0.0840223445678\n",
      "0.0840223445678\n"
     ]
    }
   ],
   "source": [
    "# usando um for\n",
    "media = x.mean()\n",
    "var = 0\n",
    "for xi in x:\n",
    "    var += (xi - media) ** 2\n",
    "var = (1 / N) * var\n",
    "print(var)\n",
    "\n",
    "# usando numpy\n",
    "var = np.square(x - x.mean()).mean()\n",
    "print(var)\n",
    "\n",
    "# usando a função var\n",
    "var = np.var(x)\n",
    "print(var)"
   ]
  },
  {
   "cell_type": "markdown",
   "metadata": {},
   "source": [
    "Como a variância mede o desvio da média em valores ao quadrado, para saber o desvio unitário precisamos calcular a \n",
    "$\\sqrt{\\text{var}}$.\n",
    "\n",
    "Essa medida é conhecida como o desvio padrão $\\sigma = \\sqrt{x_\\text{var}}$"
   ]
  },
  {
   "cell_type": "code",
   "execution_count": 18,
   "metadata": {},
   "outputs": [
    {
     "name": "stdout",
     "output_type": "stream",
     "text": [
      "0.289866080402\n",
      "0.289866080402\n"
     ]
    }
   ],
   "source": [
    "# simplesmente a raiz quadrada de var\n",
    "std = np.sqrt(var)\n",
    "print(std)\n",
    "\n",
    "# ou usando std do numpy\n",
    "std = x.std()\n",
    "print(std)"
   ]
  },
  {
   "cell_type": "markdown",
   "metadata": {},
   "source": [
    "## Normalização"
   ]
  },
  {
   "cell_type": "markdown",
   "metadata": {},
   "source": [
    "Supondo duas distribuições $x_1$ e $x_2$ com diferentes médias e desvios padrões, como podemos compará-las?\n",
    "\n",
    "Para isso, é necessário normalizá-las para que as duas tenham $\\mu = 0$ e $\\sigma = 1$.\n",
    "\n",
    "Dessa forma, as duas distribuições tem os valores no mesmo intervalo.\n",
    "\n",
    "A forma geral para normalizar uma distribuição é $x_i' = \\frac{x_i - \\bar{x}}{\\sigma_{x}}$"
   ]
  },
  {
   "cell_type": "code",
   "execution_count": 19,
   "metadata": {},
   "outputs": [
    {
     "name": "stdout",
     "output_type": "stream",
     "text": [
      "x1 2.92957457083 3.08698871425\n",
      "x2 6.95478539486 1.0237278981\n"
     ]
    },
    {
     "data": {
      "image/png": "[encoded data removed]",
      "text/plain": [
       "<matplotlib.figure.Figure at 0x2e3e91f2b70>"
      ]
     },
     "metadata": {},
     "output_type": "display_data"
    }
   ],
   "source": [
    "# duas distribuições\n",
    "x1 = np.random.normal(loc=3, scale=3, size=N)\n",
    "x2 = np.random.normal(loc=7, scale=1, size=N)\n",
    "\n",
    "sns.distplot(x1, kde=True)\n",
    "sns.distplot(x2, kde=True)\n",
    "\n",
    "print('x1', x1.mean(), x1.std())\n",
    "print('x2', x2.mean(), x2.std())"
   ]
  },
  {
   "cell_type": "code",
   "execution_count": 20,
   "metadata": {},
   "outputs": [
    {
     "name": "stdout",
     "output_type": "stream",
     "text": [
      "x1_prime -7.81597009336e-17 1.0\n",
      "x2_prime 2.16715534407e-16 1.0\n"
     ]
    },
    {
     "data": {
      "image/png": "[encoded data removed]",
      "text/plain": [
       "<matplotlib.figure.Figure at 0x2e3e92ad518>"
      ]
     },
     "metadata": {},
     "output_type": "display_data"
    }
   ],
   "source": [
    "x1_prime = (x1 - x1.mean()) / x1.std()\n",
    "x2_prime = (x2 - x2.mean()) / x2.std()\n",
    "\n",
    "sns.distplot(x1_prime, kde=True)\n",
    "sns.distplot(x2_prime, kde=True)\n",
    "\n",
    "print('x1_prime', x1_prime.mean(), x1_prime.std())\n",
    "print('x2_prime', x2_prime.mean(), x2_prime.std())"
   ]
  },
  {
   "cell_type": "code",
   "execution_count": 21,
   "metadata": {},
   "outputs": [
    {
     "name": "stdout",
     "output_type": "stream",
     "text": [
      "x1_prime -7.81597009336e-17 1.0\n",
      "x2_prime 2.16715534407e-16 1.0\n"
     ]
    },
    {
     "data": {
      "image/png": "[encoded data removed]",
      "text/plain": [
       "<matplotlib.figure.Figure at 0x2e3e9264b00>"
      ]
     },
     "metadata": {},
     "output_type": "display_data"
    }
   ],
   "source": [
    "# usando o scikit-learn\n",
    "from sklearn.preprocessing import StandardScaler\n",
    "\n",
    "scaler = StandardScaler()\n",
    "\n",
    "scaler.fit(x1.reshape(-1, 1))\n",
    "x1_prime = scaler.transform(x1.reshape(-1, 1)).reshape(-1)\n",
    "\n",
    "x2_prime = scaler.fit_transform(x2.reshape(-1, 1)).reshape(-1)\n",
    "\n",
    "sns.distplot(x1_prime, kde=True)\n",
    "sns.distplot(x2_prime, kde=True)\n",
    "\n",
    "print('x1_prime', x1_prime.mean(), x1_prime.std())\n",
    "print('x2_prime', x2_prime.mean(), x2_prime.std())"
   ]
  },
  {
   "cell_type": "code",
   "execution_count": null,
   "metadata": {
    "collapsed": true
   },
   "outputs": [],
   "source": []
  }
 ],
 "metadata": {
  "kernelspec": {
   "display_name": "Python 3",
   "language": "python",
   "name": "python3"
  },
  "language_info": {
   "codemirror_mode": {
    "name": "ipython",
    "version": 3
   },
   "file_extension": ".py",
   "mimetype": "text/x-python",
   "name": "python",
   "nbconvert_exporter": "python",
   "pygments_lexer": "ipython3",
   "version": "3.6.3"
  }
 },
 "nbformat": 4,
 "nbformat_minor": 2
}
