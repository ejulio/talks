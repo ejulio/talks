{
 "cells": [
  {
   "cell_type": "markdown",
   "metadata": {},
   "source": [
    "Aqui vamos rever os seguintes conceitos do cálculo:\n",
    "\n",
    "* O que é uma função?\n",
    "* O que é a derivada de uma função?\n",
    "* Otimização"
   ]
  },
  {
   "cell_type": "code",
   "execution_count": 1,
   "metadata": {
    "collapsed": true
   },
   "outputs": [],
   "source": [
    "import numpy as np"
   ]
  },
  {
   "cell_type": "markdown",
   "metadata": {},
   "source": [
    "## O que é uma função?"
   ]
  },
  {
   "cell_type": "markdown",
   "metadata": {},
   "source": [
    "Uma função é uma transformação de uma entrada em uma saída. De forma geral, pode ser vista como uma relação entre dois conjuntos, sendo que toda entrada tem uma única saída.\n",
    "\n",
    "Por exemplo, a seguinte função recebe um número real como entrada e devolve outro número real\n",
    "\n",
    "$$f: \\mathbb{R} \\mapsto \\mathbb{R}$$\n",
    "\n",
    "Outro exemplo é dos naturais para os reais\n",
    "\n",
    "$$g: \\mathbb{N} \\mapsto \\mathbb{R}$$"
   ]
  },
  {
   "cell_type": "markdown",
   "metadata": {},
   "source": [
    "Além da definição da relação de conjuntos, a função possui uma regra (expressão) que efetua o cálculo.\n",
    "\n",
    "Por exemplo, $f(x) = 2x + 1$ ou $g(x) = e^x$"
   ]
  },
  {
   "cell_type": "code",
   "execution_count": 9,
   "metadata": {
    "collapsed": true
   },
   "outputs": [],
   "source": [
    "# em código\n",
    "\n",
    "def f(x): return 2 * x + 1\n",
    "def g(x): return np.exp(x)"
   ]
  },
  {
   "cell_type": "code",
   "execution_count": 10,
   "metadata": {
    "collapsed": false
   },
   "outputs": [
    {
     "name": "stdout",
     "output_type": "stream",
     "text": [
      "5 5.2 1.326 17\n",
      "7.38905609893 20.0855369232 5.62262574608e+67 2980.95798704\n"
     ]
    }
   ],
   "source": [
    "print(f(2), f(2.1), f(0.163), f(8))\n",
    "print(g(2), g(3), g(156), g(8))"
   ]
  },
  {
   "cell_type": "markdown",
   "metadata": {},
   "source": [
    "## O que é a derivada de uma função?"
   ]
  },
  {
   "cell_type": "markdown",
   "metadata": {},
   "source": [
    "A derivada de uma função $f$ é uma proporção entre a entrada e a saída da função.\n",
    "\n",
    "Para calcular essa proporção nós calculamos a tangente da curva.\n",
    "\n",
    "A definição da derivada é dada por um limite, mas para simplificar, podemos imaginar que $a$ é um valor muito pequeno (próximo de 0).\n",
    "\n",
    "$$\\frac{\\partial f(x)}{\\partial x} = f'(x) = \\lim_{a \\to 0}\\frac{f(x + a) - f(x)}{a}$$"
   ]
  },
  {
   "cell_type": "code",
   "execution_count": 14,
   "metadata": {
    "collapsed": false
   },
   "outputs": [
    {
     "name": "stdout",
     "output_type": "stream",
     "text": [
      "1 0.1 3 2.0000000000000018\n",
      "1.5 0.1 4.0 2.0000000000000018\n",
      "2 0.1 5 2.0000000000000018\n",
      "2.5 0.1 6.0 2.0000000000000018\n"
     ]
    }
   ],
   "source": [
    "# em código\n",
    "\n",
    "a = 0.1\n",
    "def fprime(x): return (f(x + a) - f(x)) / a\n",
    "\n",
    "x = 1\n",
    "print(x, a, f(x), fprime(x))\n",
    "\n",
    "x = 1.5\n",
    "print(x, a, f(x), fprime(x))\n",
    "\n",
    "x = 2\n",
    "print(x, a, f(x), fprime(x))\n",
    "\n",
    "x = 2.5\n",
    "print(x, a, f(x), fprime(x))"
   ]
  },
  {
   "cell_type": "markdown",
   "metadata": {},
   "source": [
    "## Como otimizar uma função pela derivada?"
   ]
  },
  {
   "cell_type": "code",
   "execution_count": null,
   "metadata": {
    "collapsed": true
   },
   "outputs": [],
   "source": []
  }
 ],
 "metadata": {
  "kernelspec": {
   "display_name": "Python 3",
   "language": "python",
   "name": "python3"
  },
  "language_info": {
   "codemirror_mode": {
    "name": "ipython",
    "version": 3
   },
   "file_extension": ".py",
   "mimetype": "text/x-python",
   "name": "python",
   "nbconvert_exporter": "python",
   "pygments_lexer": "ipython3",
   "version": "3.5.2"
  }
 },
 "nbformat": 4,
 "nbformat_minor": 2
}
